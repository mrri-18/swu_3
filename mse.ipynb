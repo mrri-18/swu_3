{
 "cells": [
  {
   "cell_type": "code",
   "execution_count": 30,
   "id": "d50171b5",
   "metadata": {},
   "outputs": [
    {
     "name": "stdout",
     "output_type": "stream",
     "text": [
      "x, y의 평균 값은 3.0 와  13.6\n"
     ]
    },
    {
     "data": {
      "image/png": "[encoded data removed]",
      "text/plain": [
       "<Figure size 500x300 with 1 Axes>"
      ]
     },
     "metadata": {},
     "output_type": "display_data"
    }
   ],
   "source": [
    "import numpy as np\n",
    "import matplotlib.pyplot as plt\n",
    "\n",
    "x=np.array([1,2,3,4,5])\n",
    "y=np.array([2,50,4,5,7])\n",
    "\n",
    "mx=np.mean(x)\n",
    "my=np.mean(y)\n",
    "\n",
    "print(\"x, y의 평균 값은\",mx,\"와 \",my)\n",
    "\n",
    "plt.figure(figsize=(5, 3))\n",
    "plt.scatter(x, y)\n",
    "plt.show()"
   ]
  },
  {
   "cell_type": "code",
   "execution_count": 25,
   "id": "e0c92e87",
   "metadata": {},
   "outputs": [
    {
     "name": "stdout",
     "output_type": "stream",
     "text": [
      "y =  0.5 x +  4.1\n"
     ]
    }
   ],
   "source": [
    "divisor=sum([(i-mx)**2 for i in x]) #iterable한 자료형을 받음. 배열의 원소들을 순환하여 저장\n",
    "\n",
    "def top(x,mx,y,my):\n",
    "    d=0\n",
    "    for i in range(len(x)):\n",
    "        d+=(x[i]-mx)*(y[i]-my)\n",
    "    return d\n",
    "dividend=top(x,mx,y,my)\n",
    "\n",
    "a=dividend/divisor #weight\n",
    "b=my-(mx*a) #bias\n",
    "\n",
    "print(\"y = \", a,\"x + \",b) #최소제곱법으로 함수 구함. \n",
    "\n"
   ]
  },
  {
   "cell_type": "code",
   "execution_count": 26,
   "id": "793a2ce8",
   "metadata": {},
   "outputs": [
    {
     "name": "stdout",
     "output_type": "stream",
     "text": [
      "study time = 1, real grade = 2, predicted grade = 5\n",
      "study time = 2, real grade = 10, predicted grade = 5\n",
      "study time = 3, real grade = 4, predicted grade = 6\n",
      "study time = 4, real grade = 5, predicted grade = 6\n",
      "study time = 5, real grade = 7, predicted grade = 7\n",
      "평균 제곱 오차: 6.940000000000001\n"
     ]
    }
   ],
   "source": [
    "predict_result=[]\n",
    "\n",
    "def predict(x): #평균오차계산\n",
    "    return a*x+b\n",
    "for i in range(len(x)):\n",
    "    predict_result.append(predict(x[i]))\n",
    "    print(\"study time = %.f, real grade = %.f, predicted grade = %.f\" %(x[i], y[i], predict(x[i])))\n",
    "    \n",
    "n=len(x)\n",
    "def mse(y,y_pred):\n",
    "    return (1/n)*sum((y-y_pred)**2)\n",
    "\n",
    "print(\"평균 제곱 오차: \"+str(mse(y,predict_result)))\n",
    "    "
   ]
  },
  {
   "cell_type": "code",
   "execution_count": null,
   "id": "27cd8bab",
   "metadata": {},
   "outputs": [],
   "source": []
  },
  {
   "cell_type": "code",
   "execution_count": null,
   "id": "7fba7255",
   "metadata": {},
   "outputs": [],
   "source": []
  }
 ],
 "metadata": {
  "kernelspec": {
   "display_name": "Python 3 (ipykernel)",
   "language": "python",
   "name": "python3"
  },
  "language_info": {
   "codemirror_mode": {
    "name": "ipython",
    "version": 3
   },
   "file_extension": ".py",
   "mimetype": "text/x-python",
   "name": "python",
   "nbconvert_exporter": "python",
   "pygments_lexer": "ipython3",
   "version": "3.10.9"
  }
 },
 "nbformat": 4,
 "nbformat_minor": 5
}
