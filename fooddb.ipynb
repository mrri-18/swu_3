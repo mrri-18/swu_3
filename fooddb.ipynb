{
  "nbformat": 4,
  "nbformat_minor": 0,
  "metadata": {
    "colab": {
      "provenance": [],
      "authorship_tag": "ABX9TyNAnsNMnUUoDwWn22I4IORN",
      "include_colab_link": true
    },
    "kernelspec": {
      "name": "python3",
      "display_name": "Python 3"
    },
    "language_info": {
      "name": "python"
    }
  },
  "cells": [
    {
      "cell_type": "markdown",
      "metadata": {
        "id": "view-in-github",
        "colab_type": "text"
      },
      "source": [
        "<a href=\"https://colab.research.google.com/github/mrri-18/swu_3/blob/main/fooddb.ipynb\" target=\"_parent\"><img src=\"https://colab.research.google.com/assets/colab-badge.svg\" alt=\"Open In Colab\"/></a>"
      ]
    },
    {
      "cell_type": "code",
      "execution_count": 25,
      "metadata": {
        "id": "qtdziVw0Q7px"
      },
      "outputs": [],
      "source": [
        "# 모듈 import\n",
        "import requests\n",
        "import pprint\n",
        "\n",
        "#인증키 입력\n",
        "encoding = '발급받은 인코딩 인증키를 복사하여 붙여넣기 해 주세요.'\n",
        "decoding = '4c400385fda646639be1'\n",
        "\n",
        "#url 입력\n",
        "url = 'http://openapi.foodsafetykorea.go.kr/api/4c400385fda646639be1/COOKRCP01/xml/1000/1114'\n",
        "\n",
        "response = requests.get(url)\n",
        "\n",
        "# xml 내용\n",
        "content = response.text\n",
        "\n",
        "# 깔끔한 출력 위한 코드\n",
        "pp = pprint.PrettyPrinter(indent=4)\n",
        "#print(pp.pprint(content))"
      ]
    },
    {
      "cell_type": "code",
      "source": [
        "### xml을 DataFrame으로 변환하기 ###\n",
        "from os import name\n",
        "import xml.etree.ElementTree as et\n",
        "import pandas as pd\n",
        "import bs4\n",
        "from lxml import html\n",
        "from urllib.parse import urlencode, quote_plus, unquote\n",
        "\n",
        "\n",
        "#bs4 사용하여 item 태그 분리\n",
        "\n",
        "xml_obj = bs4.BeautifulSoup(content,'lxml-xml')\n",
        "rows = xml_obj.findAll('row')\n",
        "#print(rows)"
      ],
      "metadata": {
        "id": "eD_-aA4sTSsa"
      },
      "execution_count": 26,
      "outputs": []
    },
    {
      "cell_type": "code",
      "source": [
        "\n",
        "# 각 행의 컬럼, 이름, 값을 가지는 리스트 만들기\n",
        "row_list = [] # 행값\n",
        "name_list = [] # 열이름값\n",
        "value_list = [] #데이터값\n",
        "\n",
        "# xml 안의 데이터 수집\n",
        "for i in range(0, len(rows)):\n",
        "    columns = rows[i].find_all()\n",
        "    #첫째 행 데이터 수집\n",
        "    for j in range(0,len(columns)):\n",
        "        if i ==0:\n",
        "            # 컬럼 이름 값 저장\n",
        "            name_list.append(columns[j].name)\n",
        "        # 컬럼의 각 데이터 값 저장\n",
        "        value_list.append(columns[j].text)\n",
        "    # 각 행의 value값 전체 저장\n",
        "    row_list.append(value_list)\n",
        "    # 데이터 리스트 값 초기화\n",
        "    value_list=[]\n",
        "\n",
        "#xml값 DataFrame으로 만들기\n",
        "food_df = pd.DataFrame(row_list, columns=name_list)\n",
        "#print(food_df.head(19))\n",
        "\n",
        "#DataFrame CSV 파일로 저장\n",
        "food_df.to_csv('food114.csv', encoding='utf-8-sig')"
      ],
      "metadata": {
        "id": "ZGKrcxd0T5J1"
      },
      "execution_count": 27,
      "outputs": []
    }
  ]
}