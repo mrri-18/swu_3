{
  "nbformat": 4,
  "nbformat_minor": 0,
  "metadata": {
    "colab": {
      "provenance": [],
      "mount_file_id": "11e3dnlgQP7NIwBPdKkwgD4I_k2_Jb3gT",
      "authorship_tag": "ABX9TyMuk8ZuAPGHLCwC3GCRPP6A",
      "include_colab_link": true
    },
    "kernelspec": {
      "name": "python3",
      "display_name": "Python 3"
    },
    "language_info": {
      "name": "python"
    }
  },
  "cells": [
    {
      "cell_type": "markdown",
      "metadata": {
        "id": "view-in-github",
        "colab_type": "text"
      },
      "source": [
        "<a href=\"https://colab.research.google.com/github/mrri-18/swu_3/blob/main/nutrient_cluster.ipynb\" target=\"_parent\"><img src=\"https://colab.research.google.com/assets/colab-badge.svg\" alt=\"Open In Colab\"/></a>"
      ]
    },
    {
      "cell_type": "code",
      "execution_count": 108,
      "metadata": {
        "id": "Bw8KP584FthC"
      },
      "outputs": [],
      "source": [
        "import numpy as np # linear algebra\n",
        "import pandas as pd # data processing\n",
        "import matplotlib.pyplot as plt # visualization\n",
        "import seaborn as sns #visualization\n",
        "from sklearn.preprocessing import StandardScaler\n",
        "import scipy as sp"
      ]
    },
    {
      "cell_type": "code",
      "source": [
        "#import the dataset\n",
        "#데이터셋을 불러온다\n",
        "dataset = pd.read_csv('/content/food111_col.csv', encoding='UTF8')\n",
        "dataset.head()"
      ],
      "metadata": {
        "colab": {
          "base_uri": "https://localhost:8080/",
          "height": 603
        },
        "id": "0CNVFULdGEiP",
        "outputId": "5701e28d-1519-4bbd-f75e-539e38d2adb0"
      },
      "execution_count": 109,
      "outputs": [
        {
          "output_type": "execute_result",
          "data": {
            "text/plain": [
              "   Unnamed: 0                                   ATT_FILE_NO_MAIN  \\\n",
              "0           0  http://www.foodsafetykorea.go.kr/uploadimg/coo...   \n",
              "1           1  http://www.foodsafetykorea.go.kr/uploadimg/coo...   \n",
              "2           2  http://www.foodsafetykorea.go.kr/uploadimg/coo...   \n",
              "3           3  http://www.foodsafetykorea.go.kr/uploadimg/coo...   \n",
              "4           4  http://www.foodsafetykorea.go.kr/uploadimg/coo...   \n",
              "\n",
              "                                      ATT_FILE_NO_MK HASH_TAG  INFO_CAR  \\\n",
              "0  http://www.foodsafetykorea.go.kr/uploadimg/coo...      연두부       3.0   \n",
              "1  http://www.foodsafetykorea.go.kr/uploadimg/coo...     날콩가루      20.0   \n",
              "2  http://www.foodsafetykorea.go.kr/uploadimg/coo...    방울토마토       9.0   \n",
              "3  http://www.foodsafetykorea.go.kr/uploadimg/coo...      순두부      10.0   \n",
              "4  http://www.foodsafetykorea.go.kr/uploadimg/coo...      NaN       2.0   \n",
              "\n",
              "   INFO_ENG  INFO_FAT  INFO_NA  INFO_PRO  INFO_WGT  ...  \\\n",
              "0     220.0      17.0     99.0      14.0       NaN  ...   \n",
              "1     215.0       9.0    240.0      14.0       NaN  ...   \n",
              "2      45.0       1.0    277.0       2.0       NaN  ...   \n",
              "3      75.0       2.0     22.0       4.0       NaN  ...   \n",
              "4      65.0       1.0     78.0      12.0       NaN  ...   \n",
              "\n",
              "                                      RCP_PARTS_DTLS RCP_PAT2 RCP_SEQ  \\\n",
              "0  새우두부계란찜\\n연두부 75g(3/4모), 칵테일새우 20g(5마리), 달걀 30g...       반찬    28.0   \n",
              "1  [1인분]조선부추 50g, 날콩가루 7g(1⅓작은술)\\n·양념장 : 저염간장 3g(...       반찬    29.0   \n",
              "2  ●방울토마토 소박이 : \\n방울토마토 150g(5개), 양파 10g(3×1cm), ...       반찬    31.0   \n",
              "3  ●오이무침 :\\n오이 70g(1/3개), 다진 땅콩 10g(1큰술)\\n●순두부사과 ...       반찬    32.0   \n",
              "4  북엇국\\n북어채 25g(15개), 새우 10g(3마리), 사과 30g(1/5개), ...     국&찌개    33.0   \n",
              "\n",
              "  RCP_WAY2 LOW_NA HIGH_PRO VEGAN LOW_FAT LOW_CAR LOW_ENG  \n",
              "0       찌기    0.0        1     1     NaN     NaN     NaN  \n",
              "1       찌기    0.0        1     1     NaN     NaN     NaN  \n",
              "2       기타    0.0        0     1     NaN     NaN     NaN  \n",
              "3       기타    0.0        0     1     NaN     NaN     NaN  \n",
              "4      끓이기    0.0        1     1     NaN     NaN     NaN  \n",
              "\n",
              "[5 rows x 34 columns]"
            ],
            "text/html": [
              "\n",
              "  <div id=\"df-d79c274d-9a10-4763-9f6e-ccefe915ff35\" class=\"colab-df-container\">\n",
              "    <div>\n",
              "<style scoped>\n",
              "    .dataframe tbody tr th:only-of-type {\n",
              "        vertical-align: middle;\n",
              "    }\n",
              "\n",
              "    .dataframe tbody tr th {\n",
              "        vertical-align: top;\n",
              "    }\n",
              "\n",
              "    .dataframe thead th {\n",
              "        text-align: right;\n",
              "    }\n",
              "</style>\n",
              "<table border=\"1\" class=\"dataframe\">\n",
              "  <thead>\n",
              "    <tr style=\"text-align: right;\">\n",
              "      <th></th>\n",
              "      <th>Unnamed: 0</th>\n",
              "      <th>ATT_FILE_NO_MAIN</th>\n",
              "      <th>ATT_FILE_NO_MK</th>\n",
              "      <th>HASH_TAG</th>\n",
              "      <th>INFO_CAR</th>\n",
              "      <th>INFO_ENG</th>\n",
              "      <th>INFO_FAT</th>\n",
              "      <th>INFO_NA</th>\n",
              "      <th>INFO_PRO</th>\n",
              "      <th>INFO_WGT</th>\n",
              "      <th>...</th>\n",
              "      <th>RCP_PARTS_DTLS</th>\n",
              "      <th>RCP_PAT2</th>\n",
              "      <th>RCP_SEQ</th>\n",
              "      <th>RCP_WAY2</th>\n",
              "      <th>LOW_NA</th>\n",
              "      <th>HIGH_PRO</th>\n",
              "      <th>VEGAN</th>\n",
              "      <th>LOW_FAT</th>\n",
              "      <th>LOW_CAR</th>\n",
              "      <th>LOW_ENG</th>\n",
              "    </tr>\n",
              "  </thead>\n",
              "  <tbody>\n",
              "    <tr>\n",
              "      <th>0</th>\n",
              "      <td>0</td>\n",
              "      <td>http://www.foodsafetykorea.go.kr/uploadimg/coo...</td>\n",
              "      <td>http://www.foodsafetykorea.go.kr/uploadimg/coo...</td>\n",
              "      <td>연두부</td>\n",
              "      <td>3.0</td>\n",
              "      <td>220.0</td>\n",
              "      <td>17.0</td>\n",
              "      <td>99.0</td>\n",
              "      <td>14.0</td>\n",
              "      <td>NaN</td>\n",
              "      <td>...</td>\n",
              "      <td>새우두부계란찜\\n연두부 75g(3/4모), 칵테일새우 20g(5마리), 달걀 30g...</td>\n",
              "      <td>반찬</td>\n",
              "      <td>28.0</td>\n",
              "      <td>찌기</td>\n",
              "      <td>0.0</td>\n",
              "      <td>1</td>\n",
              "      <td>1</td>\n",
              "      <td>NaN</td>\n",
              "      <td>NaN</td>\n",
              "      <td>NaN</td>\n",
              "    </tr>\n",
              "    <tr>\n",
              "      <th>1</th>\n",
              "      <td>1</td>\n",
              "      <td>http://www.foodsafetykorea.go.kr/uploadimg/coo...</td>\n",
              "      <td>http://www.foodsafetykorea.go.kr/uploadimg/coo...</td>\n",
              "      <td>날콩가루</td>\n",
              "      <td>20.0</td>\n",
              "      <td>215.0</td>\n",
              "      <td>9.0</td>\n",
              "      <td>240.0</td>\n",
              "      <td>14.0</td>\n",
              "      <td>NaN</td>\n",
              "      <td>...</td>\n",
              "      <td>[1인분]조선부추 50g, 날콩가루 7g(1⅓작은술)\\n·양념장 : 저염간장 3g(...</td>\n",
              "      <td>반찬</td>\n",
              "      <td>29.0</td>\n",
              "      <td>찌기</td>\n",
              "      <td>0.0</td>\n",
              "      <td>1</td>\n",
              "      <td>1</td>\n",
              "      <td>NaN</td>\n",
              "      <td>NaN</td>\n",
              "      <td>NaN</td>\n",
              "    </tr>\n",
              "    <tr>\n",
              "      <th>2</th>\n",
              "      <td>2</td>\n",
              "      <td>http://www.foodsafetykorea.go.kr/uploadimg/coo...</td>\n",
              "      <td>http://www.foodsafetykorea.go.kr/uploadimg/coo...</td>\n",
              "      <td>방울토마토</td>\n",
              "      <td>9.0</td>\n",
              "      <td>45.0</td>\n",
              "      <td>1.0</td>\n",
              "      <td>277.0</td>\n",
              "      <td>2.0</td>\n",
              "      <td>NaN</td>\n",
              "      <td>...</td>\n",
              "      <td>●방울토마토 소박이 : \\n방울토마토 150g(5개), 양파 10g(3×1cm), ...</td>\n",
              "      <td>반찬</td>\n",
              "      <td>31.0</td>\n",
              "      <td>기타</td>\n",
              "      <td>0.0</td>\n",
              "      <td>0</td>\n",
              "      <td>1</td>\n",
              "      <td>NaN</td>\n",
              "      <td>NaN</td>\n",
              "      <td>NaN</td>\n",
              "    </tr>\n",
              "    <tr>\n",
              "      <th>3</th>\n",
              "      <td>3</td>\n",
              "      <td>http://www.foodsafetykorea.go.kr/uploadimg/coo...</td>\n",
              "      <td>http://www.foodsafetykorea.go.kr/uploadimg/coo...</td>\n",
              "      <td>순두부</td>\n",
              "      <td>10.0</td>\n",
              "      <td>75.0</td>\n",
              "      <td>2.0</td>\n",
              "      <td>22.0</td>\n",
              "      <td>4.0</td>\n",
              "      <td>NaN</td>\n",
              "      <td>...</td>\n",
              "      <td>●오이무침 :\\n오이 70g(1/3개), 다진 땅콩 10g(1큰술)\\n●순두부사과 ...</td>\n",
              "      <td>반찬</td>\n",
              "      <td>32.0</td>\n",
              "      <td>기타</td>\n",
              "      <td>0.0</td>\n",
              "      <td>0</td>\n",
              "      <td>1</td>\n",
              "      <td>NaN</td>\n",
              "      <td>NaN</td>\n",
              "      <td>NaN</td>\n",
              "    </tr>\n",
              "    <tr>\n",
              "      <th>4</th>\n",
              "      <td>4</td>\n",
              "      <td>http://www.foodsafetykorea.go.kr/uploadimg/coo...</td>\n",
              "      <td>http://www.foodsafetykorea.go.kr/uploadimg/coo...</td>\n",
              "      <td>NaN</td>\n",
              "      <td>2.0</td>\n",
              "      <td>65.0</td>\n",
              "      <td>1.0</td>\n",
              "      <td>78.0</td>\n",
              "      <td>12.0</td>\n",
              "      <td>NaN</td>\n",
              "      <td>...</td>\n",
              "      <td>북엇국\\n북어채 25g(15개), 새우 10g(3마리), 사과 30g(1/5개), ...</td>\n",
              "      <td>국&amp;찌개</td>\n",
              "      <td>33.0</td>\n",
              "      <td>끓이기</td>\n",
              "      <td>0.0</td>\n",
              "      <td>1</td>\n",
              "      <td>1</td>\n",
              "      <td>NaN</td>\n",
              "      <td>NaN</td>\n",
              "      <td>NaN</td>\n",
              "    </tr>\n",
              "  </tbody>\n",
              "</table>\n",
              "<p>5 rows × 34 columns</p>\n",
              "</div>\n",
              "    <div class=\"colab-df-buttons\">\n",
              "\n",
              "  <div class=\"colab-df-container\">\n",
              "    <button class=\"colab-df-convert\" onclick=\"convertToInteractive('df-d79c274d-9a10-4763-9f6e-ccefe915ff35')\"\n",
              "            title=\"Convert this dataframe to an interactive table.\"\n",
              "            style=\"display:none;\">\n",
              "\n",
              "  <svg xmlns=\"http://www.w3.org/2000/svg\" height=\"24px\" viewBox=\"0 -960 960 960\">\n",
              "    <path d=\"M120-120v-720h720v720H120Zm60-500h600v-160H180v160Zm220 220h160v-160H400v160Zm0 220h160v-160H400v160ZM180-400h160v-160H180v160Zm440 0h160v-160H620v160ZM180-180h160v-160H180v160Zm440 0h160v-160H620v160Z\"/>\n",
              "  </svg>\n",
              "    </button>\n",
              "\n",
              "  <style>\n",
              "    .colab-df-container {\n",
              "      display:flex;\n",
              "      gap: 12px;\n",
              "    }\n",
              "\n",
              "    .colab-df-convert {\n",
              "      background-color: #E8F0FE;\n",
              "      border: none;\n",
              "      border-radius: 50%;\n",
              "      cursor: pointer;\n",
              "      display: none;\n",
              "      fill: #1967D2;\n",
              "      height: 32px;\n",
              "      padding: 0 0 0 0;\n",
              "      width: 32px;\n",
              "    }\n",
              "\n",
              "    .colab-df-convert:hover {\n",
              "      background-color: #E2EBFA;\n",
              "      box-shadow: 0px 1px 2px rgba(60, 64, 67, 0.3), 0px 1px 3px 1px rgba(60, 64, 67, 0.15);\n",
              "      fill: #174EA6;\n",
              "    }\n",
              "\n",
              "    .colab-df-buttons div {\n",
              "      margin-bottom: 4px;\n",
              "    }\n",
              "\n",
              "    [theme=dark] .colab-df-convert {\n",
              "      background-color: #3B4455;\n",
              "      fill: #D2E3FC;\n",
              "    }\n",
              "\n",
              "    [theme=dark] .colab-df-convert:hover {\n",
              "      background-color: #434B5C;\n",
              "      box-shadow: 0px 1px 3px 1px rgba(0, 0, 0, 0.15);\n",
              "      filter: drop-shadow(0px 1px 2px rgba(0, 0, 0, 0.3));\n",
              "      fill: #FFFFFF;\n",
              "    }\n",
              "  </style>\n",
              "\n",
              "    <script>\n",
              "      const buttonEl =\n",
              "        document.querySelector('#df-d79c274d-9a10-4763-9f6e-ccefe915ff35 button.colab-df-convert');\n",
              "      buttonEl.style.display =\n",
              "        google.colab.kernel.accessAllowed ? 'block' : 'none';\n",
              "\n",
              "      async function convertToInteractive(key) {\n",
              "        const element = document.querySelector('#df-d79c274d-9a10-4763-9f6e-ccefe915ff35');\n",
              "        const dataTable =\n",
              "          await google.colab.kernel.invokeFunction('convertToInteractive',\n",
              "                                                    [key], {});\n",
              "        if (!dataTable) return;\n",
              "\n",
              "        const docLinkHtml = 'Like what you see? Visit the ' +\n",
              "          '<a target=\"_blank\" href=https://colab.research.google.com/notebooks/data_table.ipynb>data table notebook</a>'\n",
              "          + ' to learn more about interactive tables.';\n",
              "        element.innerHTML = '';\n",
              "        dataTable['output_type'] = 'display_data';\n",
              "        await google.colab.output.renderOutput(dataTable, element);\n",
              "        const docLink = document.createElement('div');\n",
              "        docLink.innerHTML = docLinkHtml;\n",
              "        element.appendChild(docLink);\n",
              "      }\n",
              "    </script>\n",
              "  </div>\n",
              "\n",
              "\n",
              "<div id=\"df-2213c54c-13c3-4d62-8ba0-eb19da025abb\">\n",
              "  <button class=\"colab-df-quickchart\" onclick=\"quickchart('df-2213c54c-13c3-4d62-8ba0-eb19da025abb')\"\n",
              "            title=\"Suggest charts.\"\n",
              "            style=\"display:none;\">\n",
              "\n",
              "<svg xmlns=\"http://www.w3.org/2000/svg\" height=\"24px\"viewBox=\"0 0 24 24\"\n",
              "     width=\"24px\">\n",
              "    <g>\n",
              "        <path d=\"M19 3H5c-1.1 0-2 .9-2 2v14c0 1.1.9 2 2 2h14c1.1 0 2-.9 2-2V5c0-1.1-.9-2-2-2zM9 17H7v-7h2v7zm4 0h-2V7h2v10zm4 0h-2v-4h2v4z\"/>\n",
              "    </g>\n",
              "</svg>\n",
              "  </button>\n",
              "\n",
              "<style>\n",
              "  .colab-df-quickchart {\n",
              "      --bg-color: #E8F0FE;\n",
              "      --fill-color: #1967D2;\n",
              "      --hover-bg-color: #E2EBFA;\n",
              "      --hover-fill-color: #174EA6;\n",
              "      --disabled-fill-color: #AAA;\n",
              "      --disabled-bg-color: #DDD;\n",
              "  }\n",
              "\n",
              "  [theme=dark] .colab-df-quickchart {\n",
              "      --bg-color: #3B4455;\n",
              "      --fill-color: #D2E3FC;\n",
              "      --hover-bg-color: #434B5C;\n",
              "      --hover-fill-color: #FFFFFF;\n",
              "      --disabled-bg-color: #3B4455;\n",
              "      --disabled-fill-color: #666;\n",
              "  }\n",
              "\n",
              "  .colab-df-quickchart {\n",
              "    background-color: var(--bg-color);\n",
              "    border: none;\n",
              "    border-radius: 50%;\n",
              "    cursor: pointer;\n",
              "    display: none;\n",
              "    fill: var(--fill-color);\n",
              "    height: 32px;\n",
              "    padding: 0;\n",
              "    width: 32px;\n",
              "  }\n",
              "\n",
              "  .colab-df-quickchart:hover {\n",
              "    background-color: var(--hover-bg-color);\n",
              "    box-shadow: 0 1px 2px rgba(60, 64, 67, 0.3), 0 1px 3px 1px rgba(60, 64, 67, 0.15);\n",
              "    fill: var(--button-hover-fill-color);\n",
              "  }\n",
              "\n",
              "  .colab-df-quickchart-complete:disabled,\n",
              "  .colab-df-quickchart-complete:disabled:hover {\n",
              "    background-color: var(--disabled-bg-color);\n",
              "    fill: var(--disabled-fill-color);\n",
              "    box-shadow: none;\n",
              "  }\n",
              "\n",
              "  .colab-df-spinner {\n",
              "    border: 2px solid var(--fill-color);\n",
              "    border-color: transparent;\n",
              "    border-bottom-color: var(--fill-color);\n",
              "    animation:\n",
              "      spin 1s steps(1) infinite;\n",
              "  }\n",
              "\n",
              "  @keyframes spin {\n",
              "    0% {\n",
              "      border-color: transparent;\n",
              "      border-bottom-color: var(--fill-color);\n",
              "      border-left-color: var(--fill-color);\n",
              "    }\n",
              "    20% {\n",
              "      border-color: transparent;\n",
              "      border-left-color: var(--fill-color);\n",
              "      border-top-color: var(--fill-color);\n",
              "    }\n",
              "    30% {\n",
              "      border-color: transparent;\n",
              "      border-left-color: var(--fill-color);\n",
              "      border-top-color: var(--fill-color);\n",
              "      border-right-color: var(--fill-color);\n",
              "    }\n",
              "    40% {\n",
              "      border-color: transparent;\n",
              "      border-right-color: var(--fill-color);\n",
              "      border-top-color: var(--fill-color);\n",
              "    }\n",
              "    60% {\n",
              "      border-color: transparent;\n",
              "      border-right-color: var(--fill-color);\n",
              "    }\n",
              "    80% {\n",
              "      border-color: transparent;\n",
              "      border-right-color: var(--fill-color);\n",
              "      border-bottom-color: var(--fill-color);\n",
              "    }\n",
              "    90% {\n",
              "      border-color: transparent;\n",
              "      border-bottom-color: var(--fill-color);\n",
              "    }\n",
              "  }\n",
              "</style>\n",
              "\n",
              "  <script>\n",
              "    async function quickchart(key) {\n",
              "      const quickchartButtonEl =\n",
              "        document.querySelector('#' + key + ' button');\n",
              "      quickchartButtonEl.disabled = true;  // To prevent multiple clicks.\n",
              "      quickchartButtonEl.classList.add('colab-df-spinner');\n",
              "      try {\n",
              "        const charts = await google.colab.kernel.invokeFunction(\n",
              "            'suggestCharts', [key], {});\n",
              "      } catch (error) {\n",
              "        console.error('Error during call to suggestCharts:', error);\n",
              "      }\n",
              "      quickchartButtonEl.classList.remove('colab-df-spinner');\n",
              "      quickchartButtonEl.classList.add('colab-df-quickchart-complete');\n",
              "    }\n",
              "    (() => {\n",
              "      let quickchartButtonEl =\n",
              "        document.querySelector('#df-2213c54c-13c3-4d62-8ba0-eb19da025abb button');\n",
              "      quickchartButtonEl.style.display =\n",
              "        google.colab.kernel.accessAllowed ? 'block' : 'none';\n",
              "    })();\n",
              "  </script>\n",
              "</div>\n",
              "    </div>\n",
              "  </div>\n"
            ]
          },
          "metadata": {},
          "execution_count": 109
        }
      ]
    },
    {
      "cell_type": "code",
      "source": [
        "dataset.columns"
      ],
      "metadata": {
        "colab": {
          "base_uri": "https://localhost:8080/"
        },
        "id": "UQSGEDaHGrPN",
        "outputId": "530cd7b8-1def-4ad1-eeaa-220cbfb0bfa6"
      },
      "execution_count": 110,
      "outputs": [
        {
          "output_type": "execute_result",
          "data": {
            "text/plain": [
              "Index(['Unnamed: 0', 'ATT_FILE_NO_MAIN', 'ATT_FILE_NO_MK', 'HASH_TAG',\n",
              "       'INFO_CAR', 'INFO_ENG', 'INFO_FAT', 'INFO_NA', 'INFO_PRO', 'INFO_WGT',\n",
              "       'MANUAL_IMG01', 'MANUAL_IMG02', 'MANUAL_IMG03', 'MANUAL_IMG04',\n",
              "       'MANUAL_IMG05', 'MANUAL_IMG06', 'MANUAL01', 'MANUAL02', 'MANUAL03',\n",
              "       'MANUAL04', 'MANUAL05', 'MANUAL06', 'RCP_NA_TIP', 'RCP_NM',\n",
              "       'RCP_PARTS_DTLS', 'RCP_PAT2', 'RCP_SEQ', 'RCP_WAY2', 'LOW_NA',\n",
              "       'HIGH_PRO', 'VEGAN', 'LOW_FAT', 'LOW_CAR', 'LOW_ENG'],\n",
              "      dtype='object')"
            ]
          },
          "metadata": {},
          "execution_count": 110
        }
      ]
    },
    {
      "cell_type": "code",
      "source": [
        "dataset.shape"
      ],
      "metadata": {
        "colab": {
          "base_uri": "https://localhost:8080/"
        },
        "id": "tUbo5hthHFt6",
        "outputId": "4345a413-ebd6-473c-e88b-74108d2627a6"
      },
      "execution_count": 111,
      "outputs": [
        {
          "output_type": "execute_result",
          "data": {
            "text/plain": [
              "(1267, 34)"
            ]
          },
          "metadata": {},
          "execution_count": 111
        }
      ]
    },
    {
      "cell_type": "code",
      "source": [
        "dataset.info()"
      ],
      "metadata": {
        "colab": {
          "base_uri": "https://localhost:8080/"
        },
        "id": "RMSKzXb_HJUZ",
        "outputId": "9f380b84-a34a-4c2e-e8df-299cc4a07ea3"
      },
      "execution_count": 112,
      "outputs": [
        {
          "output_type": "stream",
          "name": "stdout",
          "text": [
            "<class 'pandas.core.frame.DataFrame'>\n",
            "RangeIndex: 1267 entries, 0 to 1266\n",
            "Data columns (total 34 columns):\n",
            " #   Column            Non-Null Count  Dtype  \n",
            "---  ------            --------------  -----  \n",
            " 0   Unnamed: 0        1267 non-null   int64  \n",
            " 1   ATT_FILE_NO_MAIN  1105 non-null   object \n",
            " 2   ATT_FILE_NO_MK    1109 non-null   object \n",
            " 3   HASH_TAG          356 non-null    object \n",
            " 4   INFO_CAR          1267 non-null   float64\n",
            " 5   INFO_ENG          1267 non-null   float64\n",
            " 6   INFO_FAT          1267 non-null   float64\n",
            " 7   INFO_NA           1267 non-null   float64\n",
            " 8   INFO_PRO          1267 non-null   float64\n",
            " 9   INFO_WGT          242 non-null    float64\n",
            " 10  MANUAL_IMG01      1109 non-null   object \n",
            " 11  MANUAL_IMG02      1110 non-null   object \n",
            " 12  MANUAL_IMG03      1111 non-null   object \n",
            " 13  MANUAL_IMG04      1061 non-null   object \n",
            " 14  MANUAL_IMG05      1058 non-null   object \n",
            " 15  MANUAL_IMG06      1004 non-null   object \n",
            " 16  MANUAL01          1109 non-null   object \n",
            " 17  MANUAL02          1110 non-null   object \n",
            " 18  MANUAL03          1111 non-null   object \n",
            " 19  MANUAL04          1061 non-null   object \n",
            " 20  MANUAL05          1058 non-null   object \n",
            " 21  MANUAL06          1004 non-null   object \n",
            " 22  RCP_NA_TIP        1057 non-null   object \n",
            " 23  RCP_NM            1267 non-null   object \n",
            " 24  RCP_PARTS_DTLS    1267 non-null   object \n",
            " 25  RCP_PAT2          1111 non-null   object \n",
            " 26  RCP_SEQ           1111 non-null   float64\n",
            " 27  RCP_WAY2          1111 non-null   object \n",
            " 28  LOW_NA            1111 non-null   float64\n",
            " 29  HIGH_PRO          1267 non-null   int64  \n",
            " 30  VEGAN             1267 non-null   int64  \n",
            " 31  LOW_FAT           0 non-null      float64\n",
            " 32  LOW_CAR           0 non-null      float64\n",
            " 33  LOW_ENG           0 non-null      float64\n",
            "dtypes: float64(11), int64(3), object(20)\n",
            "memory usage: 336.7+ KB\n"
          ]
        }
      ]
    },
    {
      "cell_type": "code",
      "source": [
        "dataset.isnull().sum()"
      ],
      "metadata": {
        "colab": {
          "base_uri": "https://localhost:8080/"
        },
        "id": "YKc23xkvHluz",
        "outputId": "0a0f6307-e1c3-457a-9f0c-4c2066825608"
      },
      "execution_count": 113,
      "outputs": [
        {
          "output_type": "execute_result",
          "data": {
            "text/plain": [
              "Unnamed: 0             0\n",
              "ATT_FILE_NO_MAIN     162\n",
              "ATT_FILE_NO_MK       158\n",
              "HASH_TAG             911\n",
              "INFO_CAR               0\n",
              "INFO_ENG               0\n",
              "INFO_FAT               0\n",
              "INFO_NA                0\n",
              "INFO_PRO               0\n",
              "INFO_WGT            1025\n",
              "MANUAL_IMG01         158\n",
              "MANUAL_IMG02         157\n",
              "MANUAL_IMG03         156\n",
              "MANUAL_IMG04         206\n",
              "MANUAL_IMG05         209\n",
              "MANUAL_IMG06         263\n",
              "MANUAL01             158\n",
              "MANUAL02             157\n",
              "MANUAL03             156\n",
              "MANUAL04             206\n",
              "MANUAL05             209\n",
              "MANUAL06             263\n",
              "RCP_NA_TIP           210\n",
              "RCP_NM                 0\n",
              "RCP_PARTS_DTLS         0\n",
              "RCP_PAT2             156\n",
              "RCP_SEQ              156\n",
              "RCP_WAY2             156\n",
              "LOW_NA               156\n",
              "HIGH_PRO               0\n",
              "VEGAN                  0\n",
              "LOW_FAT             1267\n",
              "LOW_CAR             1267\n",
              "LOW_ENG             1267\n",
              "dtype: int64"
            ]
          },
          "metadata": {},
          "execution_count": 113
        }
      ]
    },
    {
      "cell_type": "code",
      "source": [
        "\n",
        "# 특정 행(index)을 출력 (예시에서는 2번째 행)\n",
        "specific_row = dataset.iloc[493]  # 0부터 시작하는 인덱스\n",
        "\n",
        "# 결과 출력\n",
        "print(specific_row)\n"
      ],
      "metadata": {
        "colab": {
          "base_uri": "https://localhost:8080/"
        },
        "id": "VlJ7u89iX6ZQ",
        "outputId": "1ff58183-ab5f-47e5-aea8-af553c87ce17"
      },
      "execution_count": 114,
      "outputs": [
        {
          "output_type": "stream",
          "name": "stdout",
          "text": [
            "Unnamed: 0                                                        493\n",
            "ATT_FILE_NO_MAIN    http://www.foodsafetykorea.go.kr/uploadimg/201...\n",
            "ATT_FILE_NO_MK      http://www.foodsafetykorea.go.kr/uploadimg/201...\n",
            "HASH_TAG                                                          NaN\n",
            "INFO_CAR                                                          6.2\n",
            "INFO_ENG                                                         86.7\n",
            "INFO_FAT                                                          5.9\n",
            "INFO_NA                                                         577.2\n",
            "INFO_PRO                                                          9.5\n",
            "INFO_WGT                                                          NaN\n",
            "MANUAL_IMG01        http://www.foodsafetykorea.go.kr/uploadimg/coo...\n",
            "MANUAL_IMG02        http://www.foodsafetykorea.go.kr/uploadimg/coo...\n",
            "MANUAL_IMG03        http://www.foodsafetykorea.go.kr/uploadimg/coo...\n",
            "MANUAL_IMG04        http://www.foodsafetykorea.go.kr/uploadimg/coo...\n",
            "MANUAL_IMG05        http://www.foodsafetykorea.go.kr/uploadimg/coo...\n",
            "MANUAL_IMG06        http://www.foodsafetykorea.go.kr/uploadimg/coo...\n",
            "MANUAL01                     1. 물 1컵 반에 국멸치와 건다시마를 넣고 멸치다시마국물 1컵을 낸다.\n",
            "MANUAL02                       2. 호박잎은 줄기를 꺾으며 잡아당겨 실 같은 껍질을 벗기고 씻는다.\n",
            "MANUAL03            3. 멸치다시마국물 1컵에 된장을 풀고 씻은 다슬기살을 함께 넣어 중불에서 5분정도...\n",
            "MANUAL04                                  4. 국물낸 다슬기는 건져 달걀물과 함께 섞는다.\n",
            "MANUAL05                           5. 부추는 1cm 가량의 크기로 썰고 대파는 어슷썰기 한다.\n",
            "MANUAL06            6. 국물이 끓어 오르면 호박잎과 부추, 파, 다진 마늘을 넣고 마지막으로 달걀물을...\n",
            "RCP_NA_TIP          호박잎은 비벼서 연하게 만든 후 사용한다. - 다슬기를 달걀물에 묻혀 넣으면 달걀이...\n",
            "RCP_NM                                                      호박잎다슬기된장국\n",
            "RCP_PARTS_DTLS      다슬기살 20g, 호박잎 20g , 부추 15g, 달걀 15g, 물 300g, 된장...\n",
            "RCP_PAT2                                                         국&찌개\n",
            "RCP_SEQ                                                         691.0\n",
            "RCP_WAY2                                                          끓이기\n",
            "LOW_NA                                                            0.0\n",
            "HIGH_PRO                                                            1\n",
            "VEGAN                                                               1\n",
            "LOW_FAT                                                           NaN\n",
            "LOW_CAR                                                           NaN\n",
            "LOW_ENG                                                           NaN\n",
            "Name: 493, dtype: object\n"
          ]
        }
      ]
    },
    {
      "cell_type": "code",
      "source": [
        "\n",
        "# 특정 행(index)을 출력 (예시에서는 2번째 행)\n",
        "specific_row = dataset.iloc[5]  # 0부터 시작하는 인덱스\n",
        "\n",
        "# 결과 출력\n",
        "print(specific_row)\n"
      ],
      "metadata": {
        "id": "ygvA3rBTYBih",
        "outputId": "ef22667e-89fe-4e9b-9c18-9a594b280c1a",
        "colab": {
          "base_uri": "https://localhost:8080/"
        }
      },
      "execution_count": 115,
      "outputs": [
        {
          "output_type": "stream",
          "name": "stdout",
          "text": [
            "Unnamed: 0                                                          5\n",
            "ATT_FILE_NO_MAIN    http://www.foodsafetykorea.go.kr/uploadimg/coo...\n",
            "ATT_FILE_NO_MK      http://www.foodsafetykorea.go.kr/uploadimg/coo...\n",
            "HASH_TAG                                                         저염된장\n",
            "INFO_CAR                                                         12.0\n",
            "INFO_ENG                                                        100.0\n",
            "INFO_FAT                                                          0.0\n",
            "INFO_NA                                                         361.0\n",
            "INFO_PRO                                                         13.0\n",
            "INFO_WGT                                                          NaN\n",
            "MANUAL_IMG01                                                      NaN\n",
            "MANUAL_IMG02                                                      NaN\n",
            "MANUAL_IMG03        http://www.foodsafetykorea.go.kr/uploadimg/coo...\n",
            "MANUAL_IMG04        http://www.foodsafetykorea.go.kr/uploadimg/coo...\n",
            "MANUAL_IMG05        http://www.foodsafetykorea.go.kr/uploadimg/coo...\n",
            "MANUAL_IMG06                                                      NaN\n",
            "MANUAL01                                                          NaN\n",
            "MANUAL02                                                          NaN\n",
            "MANUAL03            3. 황태는 손질하여 물에 헹궈 건져 놓고 콩나물은 다듬어 씻고 청양고추는 어슷썰기...\n",
            "MANUAL04            4. 냄비에 물을 붓고 황태와 무를 넣고 끓인 후 육수에서 물을 건져내고 저염 된장...\n",
            "MANUAL05                 5. 콩나물, 다진 마늘, 청양고추를 넣고 뚜껑을 덮어 김이 나게 끓\\n여준다.\n",
            "MANUAL06                                                          NaN\n",
            "RCP_NA_TIP          황태해장국을 조리할 때 소금 대신 저염된장을 사용하면 덜 짜고 감칠맛 나는 황태해장...\n",
            "RCP_NM                                             저염 된장으로 맛을 낸 황태해장국\n",
            "RCP_PARTS_DTLS      황태해장국\\n황태(채) 15g(10개), 콩나물 30g(1/6봉지), 무 30g(5...\n",
            "RCP_PAT2                                                         국&찌개\n",
            "RCP_SEQ                                                          36.0\n",
            "RCP_WAY2                                                          끓이기\n",
            "LOW_NA                                                            0.0\n",
            "HIGH_PRO                                                            1\n",
            "VEGAN                                                               1\n",
            "LOW_FAT                                                           NaN\n",
            "LOW_CAR                                                           NaN\n",
            "LOW_ENG                                                           NaN\n",
            "Name: 5, dtype: object\n"
          ]
        }
      ]
    },
    {
      "cell_type": "code",
      "source": [
        "dataset[['INFO_CAR','INFO_ENG','INFO_FAT']].describe()"
      ],
      "metadata": {
        "colab": {
          "base_uri": "https://localhost:8080/",
          "height": 300
        },
        "id": "llMhlip8JXGl",
        "outputId": "eeff6bca-67b5-43bb-de1f-6c09476fc74a"
      },
      "execution_count": 116,
      "outputs": [
        {
          "output_type": "execute_result",
          "data": {
            "text/plain": [
              "          INFO_CAR     INFO_ENG     INFO_FAT\n",
              "count  1267.000000  1267.000000  1267.000000\n",
              "mean     29.341949   253.147837     9.738011\n",
              "std      61.790127   183.341981    18.350055\n",
              "min       0.000000     1.000000     0.000000\n",
              "25%       8.570000   119.250000     2.225000\n",
              "50%      18.600000   215.000000     6.000000\n",
              "75%      38.550000   342.000000    12.715000\n",
              "max    1838.000000  1555.900000   505.000000"
            ],
            "text/html": [
              "\n",
              "  <div id=\"df-deec63b0-5af1-4526-bfb8-152a28cd3f01\" class=\"colab-df-container\">\n",
              "    <div>\n",
              "<style scoped>\n",
              "    .dataframe tbody tr th:only-of-type {\n",
              "        vertical-align: middle;\n",
              "    }\n",
              "\n",
              "    .dataframe tbody tr th {\n",
              "        vertical-align: top;\n",
              "    }\n",
              "\n",
              "    .dataframe thead th {\n",
              "        text-align: right;\n",
              "    }\n",
              "</style>\n",
              "<table border=\"1\" class=\"dataframe\">\n",
              "  <thead>\n",
              "    <tr style=\"text-align: right;\">\n",
              "      <th></th>\n",
              "      <th>INFO_CAR</th>\n",
              "      <th>INFO_ENG</th>\n",
              "      <th>INFO_FAT</th>\n",
              "    </tr>\n",
              "  </thead>\n",
              "  <tbody>\n",
              "    <tr>\n",
              "      <th>count</th>\n",
              "      <td>1267.000000</td>\n",
              "      <td>1267.000000</td>\n",
              "      <td>1267.000000</td>\n",
              "    </tr>\n",
              "    <tr>\n",
              "      <th>mean</th>\n",
              "      <td>29.341949</td>\n",
              "      <td>253.147837</td>\n",
              "      <td>9.738011</td>\n",
              "    </tr>\n",
              "    <tr>\n",
              "      <th>std</th>\n",
              "      <td>61.790127</td>\n",
              "      <td>183.341981</td>\n",
              "      <td>18.350055</td>\n",
              "    </tr>\n",
              "    <tr>\n",
              "      <th>min</th>\n",
              "      <td>0.000000</td>\n",
              "      <td>1.000000</td>\n",
              "      <td>0.000000</td>\n",
              "    </tr>\n",
              "    <tr>\n",
              "      <th>25%</th>\n",
              "      <td>8.570000</td>\n",
              "      <td>119.250000</td>\n",
              "      <td>2.225000</td>\n",
              "    </tr>\n",
              "    <tr>\n",
              "      <th>50%</th>\n",
              "      <td>18.600000</td>\n",
              "      <td>215.000000</td>\n",
              "      <td>6.000000</td>\n",
              "    </tr>\n",
              "    <tr>\n",
              "      <th>75%</th>\n",
              "      <td>38.550000</td>\n",
              "      <td>342.000000</td>\n",
              "      <td>12.715000</td>\n",
              "    </tr>\n",
              "    <tr>\n",
              "      <th>max</th>\n",
              "      <td>1838.000000</td>\n",
              "      <td>1555.900000</td>\n",
              "      <td>505.000000</td>\n",
              "    </tr>\n",
              "  </tbody>\n",
              "</table>\n",
              "</div>\n",
              "    <div class=\"colab-df-buttons\">\n",
              "\n",
              "  <div class=\"colab-df-container\">\n",
              "    <button class=\"colab-df-convert\" onclick=\"convertToInteractive('df-deec63b0-5af1-4526-bfb8-152a28cd3f01')\"\n",
              "            title=\"Convert this dataframe to an interactive table.\"\n",
              "            style=\"display:none;\">\n",
              "\n",
              "  <svg xmlns=\"http://www.w3.org/2000/svg\" height=\"24px\" viewBox=\"0 -960 960 960\">\n",
              "    <path d=\"M120-120v-720h720v720H120Zm60-500h600v-160H180v160Zm220 220h160v-160H400v160Zm0 220h160v-160H400v160ZM180-400h160v-160H180v160Zm440 0h160v-160H620v160ZM180-180h160v-160H180v160Zm440 0h160v-160H620v160Z\"/>\n",
              "  </svg>\n",
              "    </button>\n",
              "\n",
              "  <style>\n",
              "    .colab-df-container {\n",
              "      display:flex;\n",
              "      gap: 12px;\n",
              "    }\n",
              "\n",
              "    .colab-df-convert {\n",
              "      background-color: #E8F0FE;\n",
              "      border: none;\n",
              "      border-radius: 50%;\n",
              "      cursor: pointer;\n",
              "      display: none;\n",
              "      fill: #1967D2;\n",
              "      height: 32px;\n",
              "      padding: 0 0 0 0;\n",
              "      width: 32px;\n",
              "    }\n",
              "\n",
              "    .colab-df-convert:hover {\n",
              "      background-color: #E2EBFA;\n",
              "      box-shadow: 0px 1px 2px rgba(60, 64, 67, 0.3), 0px 1px 3px 1px rgba(60, 64, 67, 0.15);\n",
              "      fill: #174EA6;\n",
              "    }\n",
              "\n",
              "    .colab-df-buttons div {\n",
              "      margin-bottom: 4px;\n",
              "    }\n",
              "\n",
              "    [theme=dark] .colab-df-convert {\n",
              "      background-color: #3B4455;\n",
              "      fill: #D2E3FC;\n",
              "    }\n",
              "\n",
              "    [theme=dark] .colab-df-convert:hover {\n",
              "      background-color: #434B5C;\n",
              "      box-shadow: 0px 1px 3px 1px rgba(0, 0, 0, 0.15);\n",
              "      filter: drop-shadow(0px 1px 2px rgba(0, 0, 0, 0.3));\n",
              "      fill: #FFFFFF;\n",
              "    }\n",
              "  </style>\n",
              "\n",
              "    <script>\n",
              "      const buttonEl =\n",
              "        document.querySelector('#df-deec63b0-5af1-4526-bfb8-152a28cd3f01 button.colab-df-convert');\n",
              "      buttonEl.style.display =\n",
              "        google.colab.kernel.accessAllowed ? 'block' : 'none';\n",
              "\n",
              "      async function convertToInteractive(key) {\n",
              "        const element = document.querySelector('#df-deec63b0-5af1-4526-bfb8-152a28cd3f01');\n",
              "        const dataTable =\n",
              "          await google.colab.kernel.invokeFunction('convertToInteractive',\n",
              "                                                    [key], {});\n",
              "        if (!dataTable) return;\n",
              "\n",
              "        const docLinkHtml = 'Like what you see? Visit the ' +\n",
              "          '<a target=\"_blank\" href=https://colab.research.google.com/notebooks/data_table.ipynb>data table notebook</a>'\n",
              "          + ' to learn more about interactive tables.';\n",
              "        element.innerHTML = '';\n",
              "        dataTable['output_type'] = 'display_data';\n",
              "        await google.colab.output.renderOutput(dataTable, element);\n",
              "        const docLink = document.createElement('div');\n",
              "        docLink.innerHTML = docLinkHtml;\n",
              "        element.appendChild(docLink);\n",
              "      }\n",
              "    </script>\n",
              "  </div>\n",
              "\n",
              "\n",
              "<div id=\"df-38a55b19-3cac-40c5-ba3d-30bddbab7ac7\">\n",
              "  <button class=\"colab-df-quickchart\" onclick=\"quickchart('df-38a55b19-3cac-40c5-ba3d-30bddbab7ac7')\"\n",
              "            title=\"Suggest charts.\"\n",
              "            style=\"display:none;\">\n",
              "\n",
              "<svg xmlns=\"http://www.w3.org/2000/svg\" height=\"24px\"viewBox=\"0 0 24 24\"\n",
              "     width=\"24px\">\n",
              "    <g>\n",
              "        <path d=\"M19 3H5c-1.1 0-2 .9-2 2v14c0 1.1.9 2 2 2h14c1.1 0 2-.9 2-2V5c0-1.1-.9-2-2-2zM9 17H7v-7h2v7zm4 0h-2V7h2v10zm4 0h-2v-4h2v4z\"/>\n",
              "    </g>\n",
              "</svg>\n",
              "  </button>\n",
              "\n",
              "<style>\n",
              "  .colab-df-quickchart {\n",
              "      --bg-color: #E8F0FE;\n",
              "      --fill-color: #1967D2;\n",
              "      --hover-bg-color: #E2EBFA;\n",
              "      --hover-fill-color: #174EA6;\n",
              "      --disabled-fill-color: #AAA;\n",
              "      --disabled-bg-color: #DDD;\n",
              "  }\n",
              "\n",
              "  [theme=dark] .colab-df-quickchart {\n",
              "      --bg-color: #3B4455;\n",
              "      --fill-color: #D2E3FC;\n",
              "      --hover-bg-color: #434B5C;\n",
              "      --hover-fill-color: #FFFFFF;\n",
              "      --disabled-bg-color: #3B4455;\n",
              "      --disabled-fill-color: #666;\n",
              "  }\n",
              "\n",
              "  .colab-df-quickchart {\n",
              "    background-color: var(--bg-color);\n",
              "    border: none;\n",
              "    border-radius: 50%;\n",
              "    cursor: pointer;\n",
              "    display: none;\n",
              "    fill: var(--fill-color);\n",
              "    height: 32px;\n",
              "    padding: 0;\n",
              "    width: 32px;\n",
              "  }\n",
              "\n",
              "  .colab-df-quickchart:hover {\n",
              "    background-color: var(--hover-bg-color);\n",
              "    box-shadow: 0 1px 2px rgba(60, 64, 67, 0.3), 0 1px 3px 1px rgba(60, 64, 67, 0.15);\n",
              "    fill: var(--button-hover-fill-color);\n",
              "  }\n",
              "\n",
              "  .colab-df-quickchart-complete:disabled,\n",
              "  .colab-df-quickchart-complete:disabled:hover {\n",
              "    background-color: var(--disabled-bg-color);\n",
              "    fill: var(--disabled-fill-color);\n",
              "    box-shadow: none;\n",
              "  }\n",
              "\n",
              "  .colab-df-spinner {\n",
              "    border: 2px solid var(--fill-color);\n",
              "    border-color: transparent;\n",
              "    border-bottom-color: var(--fill-color);\n",
              "    animation:\n",
              "      spin 1s steps(1) infinite;\n",
              "  }\n",
              "\n",
              "  @keyframes spin {\n",
              "    0% {\n",
              "      border-color: transparent;\n",
              "      border-bottom-color: var(--fill-color);\n",
              "      border-left-color: var(--fill-color);\n",
              "    }\n",
              "    20% {\n",
              "      border-color: transparent;\n",
              "      border-left-color: var(--fill-color);\n",
              "      border-top-color: var(--fill-color);\n",
              "    }\n",
              "    30% {\n",
              "      border-color: transparent;\n",
              "      border-left-color: var(--fill-color);\n",
              "      border-top-color: var(--fill-color);\n",
              "      border-right-color: var(--fill-color);\n",
              "    }\n",
              "    40% {\n",
              "      border-color: transparent;\n",
              "      border-right-color: var(--fill-color);\n",
              "      border-top-color: var(--fill-color);\n",
              "    }\n",
              "    60% {\n",
              "      border-color: transparent;\n",
              "      border-right-color: var(--fill-color);\n",
              "    }\n",
              "    80% {\n",
              "      border-color: transparent;\n",
              "      border-right-color: var(--fill-color);\n",
              "      border-bottom-color: var(--fill-color);\n",
              "    }\n",
              "    90% {\n",
              "      border-color: transparent;\n",
              "      border-bottom-color: var(--fill-color);\n",
              "    }\n",
              "  }\n",
              "</style>\n",
              "\n",
              "  <script>\n",
              "    async function quickchart(key) {\n",
              "      const quickchartButtonEl =\n",
              "        document.querySelector('#' + key + ' button');\n",
              "      quickchartButtonEl.disabled = true;  // To prevent multiple clicks.\n",
              "      quickchartButtonEl.classList.add('colab-df-spinner');\n",
              "      try {\n",
              "        const charts = await google.colab.kernel.invokeFunction(\n",
              "            'suggestCharts', [key], {});\n",
              "      } catch (error) {\n",
              "        console.error('Error during call to suggestCharts:', error);\n",
              "      }\n",
              "      quickchartButtonEl.classList.remove('colab-df-spinner');\n",
              "      quickchartButtonEl.classList.add('colab-df-quickchart-complete');\n",
              "    }\n",
              "    (() => {\n",
              "      let quickchartButtonEl =\n",
              "        document.querySelector('#df-38a55b19-3cac-40c5-ba3d-30bddbab7ac7 button');\n",
              "      quickchartButtonEl.style.display =\n",
              "        google.colab.kernel.accessAllowed ? 'block' : 'none';\n",
              "    })();\n",
              "  </script>\n",
              "</div>\n",
              "    </div>\n",
              "  </div>\n"
            ]
          },
          "metadata": {},
          "execution_count": 116
        }
      ]
    },
    {
      "cell_type": "code",
      "source": [
        "pca_pre_data = dataset.iloc[:,[4, 5, 6]]"
      ],
      "metadata": {
        "id": "1XuPXCfgqHn7"
      },
      "execution_count": 117,
      "outputs": []
    },
    {
      "cell_type": "code",
      "source": [
        "import seaborn as sns\n",
        "from matplotlib import pyplot as plt\n",
        "from mpl_toolkits.mplot3d import Axes3D\n",
        "from mpl_toolkits.mplot3d import proj3d\n",
        "sns.pairplot(dataset[['INFO_CAR','INFO_ENG','INFO_FAT']],hue=\"INFO_ENG\")\n",
        "plt.show()"
      ],
      "metadata": {
        "colab": {
          "base_uri": "https://localhost:8080/",
          "height": 513
        },
        "id": "eIxh9KDLsSvs",
        "outputId": "a997d70a-d58b-4a5b-d1c9-23795bf71c4f"
      },
      "execution_count": 118,
      "outputs": [
        {
          "output_type": "display_data",
          "data": {
            "text/plain": [
              "<Figure size 585.125x500 with 6 Axes>"
            ],
            "image/png": "[encoded data removed]"
          },
          "metadata": {}
        }
      ]
    },
    {
      "cell_type": "code",
      "source": [
        "import seaborn as sns\n",
        "from matplotlib import pyplot as plt\n",
        "from mpl_toolkits.mplot3d import Axes3D\n",
        "from mpl_toolkits.mplot3d import proj3d\n",
        "sns.pairplot(dataset[['INFO_CAR','INFO_ENG','INFO_FAT']],hue=\"INFO_CAR\")\n",
        "plt.show()"
      ],
      "metadata": {
        "colab": {
          "base_uri": "https://localhost:8080/",
          "height": 513
        },
        "outputId": "e28b8f69-a988-4b25-e110-7d8c38f6ef12",
        "id": "Gx-_av4RuVy4"
      },
      "execution_count": 119,
      "outputs": [
        {
          "output_type": "display_data",
          "data": {
            "text/plain": [
              "<Figure size 585.25x500 with 6 Axes>"
            ],
            "image/png": "[encoded data removed]"
          },
          "metadata": {}
        }
      ]
    },
    {
      "cell_type": "code",
      "source": [
        "import seaborn as sns\n",
        "from matplotlib import pyplot as plt\n",
        "from mpl_toolkits.mplot3d import Axes3D\n",
        "from mpl_toolkits.mplot3d import proj3d\n",
        "sns.pairplot(dataset[['INFO_CAR','INFO_ENG','INFO_FAT']],hue=\"INFO_FAT\")\n",
        "plt.show()"
      ],
      "metadata": {
        "colab": {
          "base_uri": "https://localhost:8080/",
          "height": 513
        },
        "outputId": "8aa8b5de-bd21-4a59-b92d-ff4756d082e8",
        "id": "t2Ygl-Iauh86"
      },
      "execution_count": 120,
      "outputs": [
        {
          "output_type": "display_data",
          "data": {
            "text/plain": [
              "<Figure size 576.375x500 with 6 Axes>"
            ],
            "image/png": "[encoded data removed]"
          },
          "metadata": {}
        }
      ]
    },
    {
      "cell_type": "code",
      "source": [
        "info_nu=dataset[['Unnamed: 0','INFO_CAR','INFO_ENG','INFO_FAT','INFO_NA','INFO_PRO']]\n",
        "nu_df=dataset[['INFO_CAR','INFO_ENG','INFO_FAT','INFO_NA','INFO_PRO']]"
      ],
      "metadata": {
        "id": "6w4uQ4R0JSi-"
      },
      "execution_count": 121,
      "outputs": []
    },
    {
      "cell_type": "code",
      "source": [
        "# StandardScaler객체 생성\n",
        "scaler = StandardScaler()\n",
        "# StandardScaler 로 데이터 셋 변환. fit( ) 과 transform( ) 호출.\n",
        "scaler.fit(pca_pre_data)\n",
        "nu_scaled = scaler.transform(pca_pre_data)\n",
        "#표준화 완료"
      ],
      "metadata": {
        "id": "KQhppXgRhVH4"
      },
      "execution_count": 122,
      "outputs": []
    },
    {
      "cell_type": "code",
      "source": [
        "nu_df_scaled = pd.DataFrame(data=nu_scaled, columns=['INFO_CAR','INFO_ENG','INFO_FAT'])\n",
        "print('feature 들의 평균 값')\n",
        "print(nu_df_scaled.mean())\n",
        "print('\\nfeature 들의 분산 값')\n",
        "print(nu_df_scaled.var())"
      ],
      "metadata": {
        "colab": {
          "base_uri": "https://localhost:8080/"
        },
        "id": "WqCOFmNTh0XT",
        "outputId": "dcc0a3e2-ed93-4b37-b4e9-e69652ccc5f9"
      },
      "execution_count": 123,
      "outputs": [
        {
          "output_type": "stream",
          "name": "stdout",
          "text": [
            "feature 들의 평균 값\n",
            "INFO_CAR    1.121614e-17\n",
            "INFO_ENG    1.962825e-17\n",
            "INFO_FAT   -5.047265e-17\n",
            "dtype: float64\n",
            "\n",
            "feature 들의 분산 값\n",
            "INFO_CAR    1.00079\n",
            "INFO_ENG    1.00079\n",
            "INFO_FAT    1.00079\n",
            "dtype: float64\n"
          ]
        }
      ]
    },
    {
      "cell_type": "code",
      "source": [
        "#신뢰구간 대략 95%구간 이외의 값을 outlier\n",
        "# check Z score\n",
        "df_Zscore = pd.DataFrame()\n",
        "outlier_dict = {}\n",
        "outlier_idx_list = []\n",
        "\n",
        "for one_col in nu_df_scaled.columns:\n",
        "    print(\"Check\",one_col)\n",
        "    df_Zscore[f'{one_col}_Zscore'] = sp.stats.zscore(nu_df_scaled[one_col])\n",
        "    outlier_dict[one_col] = df_Zscore[f'{one_col}_Zscore'][(df_Zscore[f'{one_col}_Zscore']>2)|(df_Zscore[f'{one_col}_Zscore']<-2)]\n",
        "    outlier_idx_list.append(list(outlier_dict[one_col].index))\n",
        "    if len(outlier_dict[one_col]):\n",
        "        print(one_col,'Has outliers\\n', outlier_dict[one_col])\n",
        "    else:\n",
        "        print(one_col,\"Has Not outlier\")\n",
        "    print()\n",
        "\n",
        "\n",
        "print(\"Before\", nu_df_scaled.shape)\n",
        "all_outlier_idx = sum(outlier_idx_list,[])\n",
        "nu_df_scaled = nu_df_scaled.drop(all_outlier_idx)\n",
        "print(\"After (drop outlier)\", nu_df_scaled.shape)"
      ],
      "metadata": {
        "colab": {
          "base_uri": "https://localhost:8080/"
        },
        "id": "TanRriKsj5Bq",
        "outputId": "40d3e06f-4dcb-4a5b-809c-74ffe1999d79"
      },
      "execution_count": 124,
      "outputs": [
        {
          "output_type": "stream",
          "name": "stdout",
          "text": [
            "Check INFO_CAR\n",
            "INFO_CAR Has outliers\n",
            " 61      12.558063\n",
            "868     29.282546\n",
            "925      6.736065\n",
            "1133     2.002049\n",
            "1245     2.400814\n",
            "Name: INFO_CAR_Zscore, dtype: float64\n",
            "\n",
            "Check INFO_ENG\n",
            "INFO_ENG Has outliers\n",
            " 72      4.230664\n",
            "100     2.350920\n",
            "105     3.602628\n",
            "135     2.022988\n",
            "165     2.221056\n",
            "185     3.141558\n",
            "230     2.100469\n",
            "234     2.611738\n",
            "301     2.137573\n",
            "302     2.015349\n",
            "323     2.271256\n",
            "327     2.664120\n",
            "333     2.685945\n",
            "355     2.362378\n",
            "436     2.200322\n",
            "467     2.201413\n",
            "474     2.270164\n",
            "616     3.687748\n",
            "625     2.195411\n",
            "791     5.772109\n",
            "809     3.242502\n",
            "827     2.020805\n",
            "830     3.075535\n",
            "917     2.629198\n",
            "928     2.633018\n",
            "992     2.229787\n",
            "993     2.172494\n",
            "1012    2.324183\n",
            "1019    2.400028\n",
            "1105    3.121369\n",
            "1113    2.209052\n",
            "1133    3.098452\n",
            "1145    3.318347\n",
            "1162    2.723049\n",
            "1179    4.289048\n",
            "1184    2.969135\n",
            "1192    4.215386\n",
            "1196    2.147395\n",
            "1197    2.328003\n",
            "1199    3.676290\n",
            "1204    7.108391\n",
            "1218    2.223348\n",
            "1220    2.097632\n",
            "1223    2.499772\n",
            "1224    2.120603\n",
            "1226    3.256580\n",
            "1240    3.916428\n",
            "1241    3.791475\n",
            "1245    2.442806\n",
            "1247    2.349283\n",
            "1258    5.315623\n",
            "1265    3.007057\n",
            "1266    2.107126\n",
            "Name: INFO_ENG_Zscore, dtype: float64\n",
            "\n",
            "Check INFO_FAT\n",
            "INFO_FAT Has outliers\n",
            " 135      2.036874\n",
            "185      2.162263\n",
            "187      8.949663\n",
            "230      2.151360\n",
            "454     27.000330\n",
            "467      2.249491\n",
            "1012     2.064132\n",
            "1105     2.238587\n",
            "1145     2.903698\n",
            "1179     4.675509\n",
            "1192     4.811802\n",
            "1199     3.089057\n",
            "1204     7.145141\n",
            "1226     2.048322\n",
            "1240     2.081033\n",
            "1241     2.181889\n",
            "1247     2.107201\n",
            "1258     3.049259\n",
            "1265     2.630021\n",
            "Name: INFO_FAT_Zscore, dtype: float64\n",
            "\n",
            "Before (1267, 3)\n",
            "After (drop outlier) (1209, 3)\n"
          ]
        }
      ]
    },
    {
      "cell_type": "code",
      "source": [
        "#이상치 값 제거 -> 정규화, 반드시 이 순서\n",
        "from sklearn.preprocessing import MinMaxScaler\n",
        "\n",
        "# MinMaxScaler객체 생성\n",
        "min_max_scaler = MinMaxScaler()\n",
        "\n",
        "# transform()시 scale 변환된 데이터 셋이 numpy ndarry로 반환되어 이를 DataFrame으로 변환\n",
        "final_df_scaled = pd.DataFrame(min_max_scaler.fit_transform(nu_df_scaled),columns=['INFO_CAR','INFO_ENG','INFO_FAT'])\n",
        "print('feature들의 최소 값')\n",
        "print(final_df_scaled.min())\n",
        "print('\\nfeature들의 최대 값')\n",
        "print(final_df_scaled.max())"
      ],
      "metadata": {
        "colab": {
          "base_uri": "https://localhost:8080/"
        },
        "id": "8C9sMTOhla6Q",
        "outputId": "042cce4e-8b83-474e-9349-45d139e1f860"
      },
      "execution_count": 125,
      "outputs": [
        {
          "output_type": "stream",
          "name": "stdout",
          "text": [
            "feature들의 최소 값\n",
            "INFO_CAR    0.0\n",
            "INFO_ENG    0.0\n",
            "INFO_FAT    0.0\n",
            "dtype: float64\n",
            "\n",
            "feature들의 최대 값\n",
            "INFO_CAR    1.0\n",
            "INFO_ENG    1.0\n",
            "INFO_FAT    1.0\n",
            "dtype: float64\n"
          ]
        }
      ]
    },
    {
      "cell_type": "code",
      "source": [
        "from sklearn.decomposition import PCA\n",
        "\n",
        "pca = PCA(n_components=2)\n",
        "pca_data = pca.fit_transform(final_df_scaled)\n",
        "print(pca_data.shape)"
      ],
      "metadata": {
        "colab": {
          "base_uri": "https://localhost:8080/"
        },
        "id": "WiBjy76Srolf",
        "outputId": "f885cdd1-9d94-4951-a74f-d453cb74fd47"
      },
      "execution_count": 127,
      "outputs": [
        {
          "output_type": "stream",
          "name": "stdout",
          "text": [
            "(1209, 2)\n"
          ]
        }
      ]
    },
    {
      "cell_type": "code",
      "source": [
        "print(np.sum(pca.explained_variance_ratio_)) # 0.965...\n"
      ],
      "metadata": {
        "colab": {
          "base_uri": "https://localhost:8080/"
        },
        "id": "jnJUwEcvFn5l",
        "outputId": "e08a7ba2-d490-49e0-d11f-3cf8a7e8fe69"
      },
      "execution_count": 128,
      "outputs": [
        {
          "output_type": "stream",
          "name": "stdout",
          "text": [
            "0.9651090435761087\n"
          ]
        }
      ]
    },
    {
      "cell_type": "code",
      "source": [
        "pca.explained_variance_ratio_"
      ],
      "metadata": {
        "colab": {
          "base_uri": "https://localhost:8080/"
        },
        "id": "eH5qGHLnEW_T",
        "outputId": "06bf67b9-816a-4f14-983d-772538a73b31"
      },
      "execution_count": 129,
      "outputs": [
        {
          "output_type": "execute_result",
          "data": {
            "text/plain": [
              "array([0.72183936, 0.24326968])"
            ]
          },
          "metadata": {},
          "execution_count": 129
        }
      ]
    },
    {
      "cell_type": "code",
      "source": [
        "data2 = pd.DataFrame(data =pca_data, columns=['pc1', 'pc2'])"
      ],
      "metadata": {
        "id": "pEOzWfJh3y2Q"
      },
      "execution_count": 130,
      "outputs": []
    },
    {
      "cell_type": "code",
      "source": [
        "data2.head()"
      ],
      "metadata": {
        "colab": {
          "base_uri": "https://localhost:8080/",
          "height": 206
        },
        "id": "URMeIGE_39Kk",
        "outputId": "adfe2e73-bb4b-45c4-9dc1-e2f2f2c5ced6"
      },
      "execution_count": 131,
      "outputs": [
        {
          "output_type": "execute_result",
          "data": {
            "text/plain": [
              "        pc1       pc2\n",
              "0 -0.008424  0.267734\n",
              "1 -0.028973  0.044900\n",
              "2 -0.360906 -0.018882\n",
              "3 -0.309776 -0.008429\n",
              "4 -0.361580  0.022841"
            ],
            "text/html": [
              "\n",
              "  <div id=\"df-899b5c09-4dfc-4ca7-bf6b-d8ac92fb4416\" class=\"colab-df-container\">\n",
              "    <div>\n",
              "<style scoped>\n",
              "    .dataframe tbody tr th:only-of-type {\n",
              "        vertical-align: middle;\n",
              "    }\n",
              "\n",
              "    .dataframe tbody tr th {\n",
              "        vertical-align: top;\n",
              "    }\n",
              "\n",
              "    .dataframe thead th {\n",
              "        text-align: right;\n",
              "    }\n",
              "</style>\n",
              "<table border=\"1\" class=\"dataframe\">\n",
              "  <thead>\n",
              "    <tr style=\"text-align: right;\">\n",
              "      <th></th>\n",
              "      <th>pc1</th>\n",
              "      <th>pc2</th>\n",
              "    </tr>\n",
              "  </thead>\n",
              "  <tbody>\n",
              "    <tr>\n",
              "      <th>0</th>\n",
              "      <td>-0.008424</td>\n",
              "      <td>0.267734</td>\n",
              "    </tr>\n",
              "    <tr>\n",
              "      <th>1</th>\n",
              "      <td>-0.028973</td>\n",
              "      <td>0.044900</td>\n",
              "    </tr>\n",
              "    <tr>\n",
              "      <th>2</th>\n",
              "      <td>-0.360906</td>\n",
              "      <td>-0.018882</td>\n",
              "    </tr>\n",
              "    <tr>\n",
              "      <th>3</th>\n",
              "      <td>-0.309776</td>\n",
              "      <td>-0.008429</td>\n",
              "    </tr>\n",
              "    <tr>\n",
              "      <th>4</th>\n",
              "      <td>-0.361580</td>\n",
              "      <td>0.022841</td>\n",
              "    </tr>\n",
              "  </tbody>\n",
              "</table>\n",
              "</div>\n",
              "    <div class=\"colab-df-buttons\">\n",
              "\n",
              "  <div class=\"colab-df-container\">\n",
              "    <button class=\"colab-df-convert\" onclick=\"convertToInteractive('df-899b5c09-4dfc-4ca7-bf6b-d8ac92fb4416')\"\n",
              "            title=\"Convert this dataframe to an interactive table.\"\n",
              "            style=\"display:none;\">\n",
              "\n",
              "  <svg xmlns=\"http://www.w3.org/2000/svg\" height=\"24px\" viewBox=\"0 -960 960 960\">\n",
              "    <path d=\"M120-120v-720h720v720H120Zm60-500h600v-160H180v160Zm220 220h160v-160H400v160Zm0 220h160v-160H400v160ZM180-400h160v-160H180v160Zm440 0h160v-160H620v160ZM180-180h160v-160H180v160Zm440 0h160v-160H620v160Z\"/>\n",
              "  </svg>\n",
              "    </button>\n",
              "\n",
              "  <style>\n",
              "    .colab-df-container {\n",
              "      display:flex;\n",
              "      gap: 12px;\n",
              "    }\n",
              "\n",
              "    .colab-df-convert {\n",
              "      background-color: #E8F0FE;\n",
              "      border: none;\n",
              "      border-radius: 50%;\n",
              "      cursor: pointer;\n",
              "      display: none;\n",
              "      fill: #1967D2;\n",
              "      height: 32px;\n",
              "      padding: 0 0 0 0;\n",
              "      width: 32px;\n",
              "    }\n",
              "\n",
              "    .colab-df-convert:hover {\n",
              "      background-color: #E2EBFA;\n",
              "      box-shadow: 0px 1px 2px rgba(60, 64, 67, 0.3), 0px 1px 3px 1px rgba(60, 64, 67, 0.15);\n",
              "      fill: #174EA6;\n",
              "    }\n",
              "\n",
              "    .colab-df-buttons div {\n",
              "      margin-bottom: 4px;\n",
              "    }\n",
              "\n",
              "    [theme=dark] .colab-df-convert {\n",
              "      background-color: #3B4455;\n",
              "      fill: #D2E3FC;\n",
              "    }\n",
              "\n",
              "    [theme=dark] .colab-df-convert:hover {\n",
              "      background-color: #434B5C;\n",
              "      box-shadow: 0px 1px 3px 1px rgba(0, 0, 0, 0.15);\n",
              "      filter: drop-shadow(0px 1px 2px rgba(0, 0, 0, 0.3));\n",
              "      fill: #FFFFFF;\n",
              "    }\n",
              "  </style>\n",
              "\n",
              "    <script>\n",
              "      const buttonEl =\n",
              "        document.querySelector('#df-899b5c09-4dfc-4ca7-bf6b-d8ac92fb4416 button.colab-df-convert');\n",
              "      buttonEl.style.display =\n",
              "        google.colab.kernel.accessAllowed ? 'block' : 'none';\n",
              "\n",
              "      async function convertToInteractive(key) {\n",
              "        const element = document.querySelector('#df-899b5c09-4dfc-4ca7-bf6b-d8ac92fb4416');\n",
              "        const dataTable =\n",
              "          await google.colab.kernel.invokeFunction('convertToInteractive',\n",
              "                                                    [key], {});\n",
              "        if (!dataTable) return;\n",
              "\n",
              "        const docLinkHtml = 'Like what you see? Visit the ' +\n",
              "          '<a target=\"_blank\" href=https://colab.research.google.com/notebooks/data_table.ipynb>data table notebook</a>'\n",
              "          + ' to learn more about interactive tables.';\n",
              "        element.innerHTML = '';\n",
              "        dataTable['output_type'] = 'display_data';\n",
              "        await google.colab.output.renderOutput(dataTable, element);\n",
              "        const docLink = document.createElement('div');\n",
              "        docLink.innerHTML = docLinkHtml;\n",
              "        element.appendChild(docLink);\n",
              "      }\n",
              "    </script>\n",
              "  </div>\n",
              "\n",
              "\n",
              "<div id=\"df-cd07655d-e4e0-4ca9-b1c0-589224688d7d\">\n",
              "  <button class=\"colab-df-quickchart\" onclick=\"quickchart('df-cd07655d-e4e0-4ca9-b1c0-589224688d7d')\"\n",
              "            title=\"Suggest charts.\"\n",
              "            style=\"display:none;\">\n",
              "\n",
              "<svg xmlns=\"http://www.w3.org/2000/svg\" height=\"24px\"viewBox=\"0 0 24 24\"\n",
              "     width=\"24px\">\n",
              "    <g>\n",
              "        <path d=\"M19 3H5c-1.1 0-2 .9-2 2v14c0 1.1.9 2 2 2h14c1.1 0 2-.9 2-2V5c0-1.1-.9-2-2-2zM9 17H7v-7h2v7zm4 0h-2V7h2v10zm4 0h-2v-4h2v4z\"/>\n",
              "    </g>\n",
              "</svg>\n",
              "  </button>\n",
              "\n",
              "<style>\n",
              "  .colab-df-quickchart {\n",
              "      --bg-color: #E8F0FE;\n",
              "      --fill-color: #1967D2;\n",
              "      --hover-bg-color: #E2EBFA;\n",
              "      --hover-fill-color: #174EA6;\n",
              "      --disabled-fill-color: #AAA;\n",
              "      --disabled-bg-color: #DDD;\n",
              "  }\n",
              "\n",
              "  [theme=dark] .colab-df-quickchart {\n",
              "      --bg-color: #3B4455;\n",
              "      --fill-color: #D2E3FC;\n",
              "      --hover-bg-color: #434B5C;\n",
              "      --hover-fill-color: #FFFFFF;\n",
              "      --disabled-bg-color: #3B4455;\n",
              "      --disabled-fill-color: #666;\n",
              "  }\n",
              "\n",
              "  .colab-df-quickchart {\n",
              "    background-color: var(--bg-color);\n",
              "    border: none;\n",
              "    border-radius: 50%;\n",
              "    cursor: pointer;\n",
              "    display: none;\n",
              "    fill: var(--fill-color);\n",
              "    height: 32px;\n",
              "    padding: 0;\n",
              "    width: 32px;\n",
              "  }\n",
              "\n",
              "  .colab-df-quickchart:hover {\n",
              "    background-color: var(--hover-bg-color);\n",
              "    box-shadow: 0 1px 2px rgba(60, 64, 67, 0.3), 0 1px 3px 1px rgba(60, 64, 67, 0.15);\n",
              "    fill: var(--button-hover-fill-color);\n",
              "  }\n",
              "\n",
              "  .colab-df-quickchart-complete:disabled,\n",
              "  .colab-df-quickchart-complete:disabled:hover {\n",
              "    background-color: var(--disabled-bg-color);\n",
              "    fill: var(--disabled-fill-color);\n",
              "    box-shadow: none;\n",
              "  }\n",
              "\n",
              "  .colab-df-spinner {\n",
              "    border: 2px solid var(--fill-color);\n",
              "    border-color: transparent;\n",
              "    border-bottom-color: var(--fill-color);\n",
              "    animation:\n",
              "      spin 1s steps(1) infinite;\n",
              "  }\n",
              "\n",
              "  @keyframes spin {\n",
              "    0% {\n",
              "      border-color: transparent;\n",
              "      border-bottom-color: var(--fill-color);\n",
              "      border-left-color: var(--fill-color);\n",
              "    }\n",
              "    20% {\n",
              "      border-color: transparent;\n",
              "      border-left-color: var(--fill-color);\n",
              "      border-top-color: var(--fill-color);\n",
              "    }\n",
              "    30% {\n",
              "      border-color: transparent;\n",
              "      border-left-color: var(--fill-color);\n",
              "      border-top-color: var(--fill-color);\n",
              "      border-right-color: var(--fill-color);\n",
              "    }\n",
              "    40% {\n",
              "      border-color: transparent;\n",
              "      border-right-color: var(--fill-color);\n",
              "      border-top-color: var(--fill-color);\n",
              "    }\n",
              "    60% {\n",
              "      border-color: transparent;\n",
              "      border-right-color: var(--fill-color);\n",
              "    }\n",
              "    80% {\n",
              "      border-color: transparent;\n",
              "      border-right-color: var(--fill-color);\n",
              "      border-bottom-color: var(--fill-color);\n",
              "    }\n",
              "    90% {\n",
              "      border-color: transparent;\n",
              "      border-bottom-color: var(--fill-color);\n",
              "    }\n",
              "  }\n",
              "</style>\n",
              "\n",
              "  <script>\n",
              "    async function quickchart(key) {\n",
              "      const quickchartButtonEl =\n",
              "        document.querySelector('#' + key + ' button');\n",
              "      quickchartButtonEl.disabled = true;  // To prevent multiple clicks.\n",
              "      quickchartButtonEl.classList.add('colab-df-spinner');\n",
              "      try {\n",
              "        const charts = await google.colab.kernel.invokeFunction(\n",
              "            'suggestCharts', [key], {});\n",
              "      } catch (error) {\n",
              "        console.error('Error during call to suggestCharts:', error);\n",
              "      }\n",
              "      quickchartButtonEl.classList.remove('colab-df-spinner');\n",
              "      quickchartButtonEl.classList.add('colab-df-quickchart-complete');\n",
              "    }\n",
              "    (() => {\n",
              "      let quickchartButtonEl =\n",
              "        document.querySelector('#df-cd07655d-e4e0-4ca9-b1c0-589224688d7d button');\n",
              "      quickchartButtonEl.style.display =\n",
              "        google.colab.kernel.accessAllowed ? 'block' : 'none';\n",
              "    })();\n",
              "  </script>\n",
              "</div>\n",
              "    </div>\n",
              "  </div>\n"
            ]
          },
          "metadata": {},
          "execution_count": 131
        }
      ]
    },
    {
      "cell_type": "code",
      "source": [
        "from sklearn.cluster import KMeans\n",
        "WCSS=[]"
      ],
      "metadata": {
        "id": "usV0y4S9g4FW"
      },
      "execution_count": 132,
      "outputs": []
    },
    {
      "cell_type": "code",
      "source": [
        "plt.scatter(data2['pc1'], data2['pc2'])\n",
        "plt.xlabel('pc1')\n",
        "plt.ylabel('pc2')\n",
        "plt.show()"
      ],
      "metadata": {
        "colab": {
          "base_uri": "https://localhost:8080/",
          "height": 449
        },
        "id": "-rl0E7IeeS4g",
        "outputId": "9fd5686d-3125-4e75-b334-efa2f6b2768d"
      },
      "execution_count": 133,
      "outputs": [
        {
          "output_type": "display_data",
          "data": {
            "text/plain": [
              "<Figure size 640x480 with 1 Axes>"
            ],
            "image/png": "[encoded data removed]"
          },
          "metadata": {}
        }
      ]
    },
    {
      "cell_type": "markdown",
      "source": [
        "열량, 나트륨 수치가 range가 차이가 심해서 정규화 해야함."
      ],
      "metadata": {
        "id": "WJcw4L1MdUZ3"
      }
    },
    {
      "cell_type": "code",
      "source": [
        "for i in range (1,11):\n",
        "    kmeans = KMeans(n_clusters=i, init='k-means++', random_state=0)\n",
        "    kmeans.fit(data2)\n",
        "    interia=kmeans.inertia_\n",
        "    #### inertia_ is the formula used to segregate the data points into clusters\n",
        "    #### inertia = 관성\n",
        "    #### Cluster 간의 거리의 합을 나타내는 inertia가 급격히 떨어지는 구간이 생기는데 => 이 부분이 팔꿈치와 유사해서\n",
        "    #### 이 지점의 K 값을 군집(cluster)의 개수로 사용 inertia_속성으로 확인할 수 있다\n",
        "    print('k:', i, 'inertia:', interia)\n",
        "    WCSS.append(kmeans.inertia_) #5개로 결정"
      ],
      "metadata": {
        "colab": {
          "base_uri": "https://localhost:8080/"
        },
        "id": "S5aCDd93g_nl",
        "outputId": "b82fcf35-79e0-4759-e6f3-13af68fb1d96"
      },
      "execution_count": 134,
      "outputs": [
        {
          "output_type": "stream",
          "name": "stderr",
          "text": [
            "/usr/local/lib/python3.10/dist-packages/sklearn/cluster/_kmeans.py:870: FutureWarning: The default value of `n_init` will change from 10 to 'auto' in 1.4. Set the value of `n_init` explicitly to suppress the warning\n",
            "  warnings.warn(\n",
            "/usr/local/lib/python3.10/dist-packages/sklearn/cluster/_kmeans.py:870: FutureWarning: The default value of `n_init` will change from 10 to 'auto' in 1.4. Set the value of `n_init` explicitly to suppress the warning\n",
            "  warnings.warn(\n",
            "/usr/local/lib/python3.10/dist-packages/sklearn/cluster/_kmeans.py:870: FutureWarning: The default value of `n_init` will change from 10 to 'auto' in 1.4. Set the value of `n_init` explicitly to suppress the warning\n",
            "  warnings.warn(\n",
            "/usr/local/lib/python3.10/dist-packages/sklearn/cluster/_kmeans.py:870: FutureWarning: The default value of `n_init` will change from 10 to 'auto' in 1.4. Set the value of `n_init` explicitly to suppress the warning\n",
            "  warnings.warn(\n",
            "/usr/local/lib/python3.10/dist-packages/sklearn/cluster/_kmeans.py:870: FutureWarning: The default value of `n_init` will change from 10 to 'auto' in 1.4. Set the value of `n_init` explicitly to suppress the warning\n",
            "  warnings.warn(\n",
            "/usr/local/lib/python3.10/dist-packages/sklearn/cluster/_kmeans.py:870: FutureWarning: The default value of `n_init` will change from 10 to 'auto' in 1.4. Set the value of `n_init` explicitly to suppress the warning\n",
            "  warnings.warn(\n",
            "/usr/local/lib/python3.10/dist-packages/sklearn/cluster/_kmeans.py:870: FutureWarning: The default value of `n_init` will change from 10 to 'auto' in 1.4. Set the value of `n_init` explicitly to suppress the warning\n",
            "  warnings.warn(\n"
          ]
        },
        {
          "output_type": "stream",
          "name": "stdout",
          "text": [
            "k: 1 inertia: 140.35592654270988\n",
            "k: 2 inertia: 68.11942790670966\n",
            "k: 3 inertia: 47.764962598882846\n",
            "k: 4 inertia: 34.34240027788832\n",
            "k: 5 inertia: 26.79337320527616\n",
            "k: 6 inertia: 21.49570259885334\n",
            "k: 7 inertia: 18.66299430266939\n"
          ]
        },
        {
          "output_type": "stream",
          "name": "stderr",
          "text": [
            "/usr/local/lib/python3.10/dist-packages/sklearn/cluster/_kmeans.py:870: FutureWarning: The default value of `n_init` will change from 10 to 'auto' in 1.4. Set the value of `n_init` explicitly to suppress the warning\n",
            "  warnings.warn(\n"
          ]
        },
        {
          "output_type": "stream",
          "name": "stdout",
          "text": [
            "k: 8 inertia: 16.345286274368227\n",
            "k: 9 inertia: 14.611771062235729\n",
            "k: 10 inertia: 12.897413841608643\n"
          ]
        },
        {
          "output_type": "stream",
          "name": "stderr",
          "text": [
            "/usr/local/lib/python3.10/dist-packages/sklearn/cluster/_kmeans.py:870: FutureWarning: The default value of `n_init` will change from 10 to 'auto' in 1.4. Set the value of `n_init` explicitly to suppress the warning\n",
            "  warnings.warn(\n",
            "/usr/local/lib/python3.10/dist-packages/sklearn/cluster/_kmeans.py:870: FutureWarning: The default value of `n_init` will change from 10 to 'auto' in 1.4. Set the value of `n_init` explicitly to suppress the warning\n",
            "  warnings.warn(\n"
          ]
        }
      ]
    },
    {
      "cell_type": "code",
      "source": [
        "plt.plot(range(1,11), WCSS)\n",
        "\n",
        "plt.title('The Elbow Method')\n",
        "plt.xlabel('no of clusters')\n",
        "plt.ylabel('WCSS')\n",
        "plt.show()"
      ],
      "metadata": {
        "colab": {
          "base_uri": "https://localhost:8080/",
          "height": 472
        },
        "id": "FXilsjBvi9sm",
        "outputId": "12e2b275-4da6-4c55-b005-ff58f818853b"
      },
      "execution_count": 135,
      "outputs": [
        {
          "output_type": "display_data",
          "data": {
            "text/plain": [
              "<Figure size 640x480 with 1 Axes>"
            ],
            "image/png": "[encoded data removed]"
          },
          "metadata": {}
        }
      ]
    },
    {
      "cell_type": "code",
      "source": [
        "kmeansmodel = KMeans(n_clusters= 3, init='k-means++', max_iter=300, random_state=0) #K-MEANS 알고리즘을 사용, K-Means 알고리즘이 수렴할 때까지 최대 300번 반복\n",
        "y_kmeans= kmeansmodel.fit_predict(data2)\n",
        "y_kmeans #각 데이터에 대해 클러스터 표현 0~2까지"
      ],
      "metadata": {
        "colab": {
          "base_uri": "https://localhost:8080/"
        },
        "id": "AVXKlMrzlODw",
        "outputId": "452df62a-7cf4-4698-ec3a-2a59db0f0c4f"
      },
      "execution_count": 136,
      "outputs": [
        {
          "output_type": "stream",
          "name": "stderr",
          "text": [
            "/usr/local/lib/python3.10/dist-packages/sklearn/cluster/_kmeans.py:870: FutureWarning: The default value of `n_init` will change from 10 to 'auto' in 1.4. Set the value of `n_init` explicitly to suppress the warning\n",
            "  warnings.warn(\n"
          ]
        },
        {
          "output_type": "execute_result",
          "data": {
            "text/plain": [
              "array([2, 0, 0, ..., 1, 2, 0], dtype=int32)"
            ]
          },
          "metadata": {},
          "execution_count": 136
        }
      ]
    },
    {
      "cell_type": "code",
      "source": [
        "data2['labels'] = y_kmeans"
      ],
      "metadata": {
        "id": "5S-hyYzw-UrO"
      },
      "execution_count": 137,
      "outputs": []
    },
    {
      "cell_type": "code",
      "source": [
        "final_df_scaled['labels']=y_kmeans"
      ],
      "metadata": {
        "id": "jQnfPcsTO7oA"
      },
      "execution_count": 153,
      "outputs": []
    },
    {
      "cell_type": "code",
      "source": [
        "data2.head(10)"
      ],
      "metadata": {
        "colab": {
          "base_uri": "https://localhost:8080/",
          "height": 363
        },
        "id": "SOvpuXeu9505",
        "outputId": "575c58ae-322d-4ac2-e90e-d77d85479b4f"
      },
      "execution_count": 145,
      "outputs": [
        {
          "output_type": "execute_result",
          "data": {
            "text/plain": [
              "        pc1       pc2  labels\n",
              "0 -0.008424  0.267734       2\n",
              "1 -0.028973  0.044900       0\n",
              "2 -0.360906 -0.018882       0\n",
              "3 -0.309776 -0.008429       0\n",
              "4 -0.361580  0.022841       0\n",
              "5 -0.290156 -0.050092       0\n",
              "6 -0.424217  0.000169       0\n",
              "7 -0.368299 -0.007144       0\n",
              "8 -0.082638  0.130631       0\n",
              "9 -0.055752 -0.075881       0"
            ],
            "text/html": [
              "\n",
              "  <div id=\"df-93169348-4d23-4174-9e1e-2caba6b10007\" class=\"colab-df-container\">\n",
              "    <div>\n",
              "<style scoped>\n",
              "    .dataframe tbody tr th:only-of-type {\n",
              "        vertical-align: middle;\n",
              "    }\n",
              "\n",
              "    .dataframe tbody tr th {\n",
              "        vertical-align: top;\n",
              "    }\n",
              "\n",
              "    .dataframe thead th {\n",
              "        text-align: right;\n",
              "    }\n",
              "</style>\n",
              "<table border=\"1\" class=\"dataframe\">\n",
              "  <thead>\n",
              "    <tr style=\"text-align: right;\">\n",
              "      <th></th>\n",
              "      <th>pc1</th>\n",
              "      <th>pc2</th>\n",
              "      <th>labels</th>\n",
              "    </tr>\n",
              "  </thead>\n",
              "  <tbody>\n",
              "    <tr>\n",
              "      <th>0</th>\n",
              "      <td>-0.008424</td>\n",
              "      <td>0.267734</td>\n",
              "      <td>2</td>\n",
              "    </tr>\n",
              "    <tr>\n",
              "      <th>1</th>\n",
              "      <td>-0.028973</td>\n",
              "      <td>0.044900</td>\n",
              "      <td>0</td>\n",
              "    </tr>\n",
              "    <tr>\n",
              "      <th>2</th>\n",
              "      <td>-0.360906</td>\n",
              "      <td>-0.018882</td>\n",
              "      <td>0</td>\n",
              "    </tr>\n",
              "    <tr>\n",
              "      <th>3</th>\n",
              "      <td>-0.309776</td>\n",
              "      <td>-0.008429</td>\n",
              "      <td>0</td>\n",
              "    </tr>\n",
              "    <tr>\n",
              "      <th>4</th>\n",
              "      <td>-0.361580</td>\n",
              "      <td>0.022841</td>\n",
              "      <td>0</td>\n",
              "    </tr>\n",
              "    <tr>\n",
              "      <th>5</th>\n",
              "      <td>-0.290156</td>\n",
              "      <td>-0.050092</td>\n",
              "      <td>0</td>\n",
              "    </tr>\n",
              "    <tr>\n",
              "      <th>6</th>\n",
              "      <td>-0.424217</td>\n",
              "      <td>0.000169</td>\n",
              "      <td>0</td>\n",
              "    </tr>\n",
              "    <tr>\n",
              "      <th>7</th>\n",
              "      <td>-0.368299</td>\n",
              "      <td>-0.007144</td>\n",
              "      <td>0</td>\n",
              "    </tr>\n",
              "    <tr>\n",
              "      <th>8</th>\n",
              "      <td>-0.082638</td>\n",
              "      <td>0.130631</td>\n",
              "      <td>0</td>\n",
              "    </tr>\n",
              "    <tr>\n",
              "      <th>9</th>\n",
              "      <td>-0.055752</td>\n",
              "      <td>-0.075881</td>\n",
              "      <td>0</td>\n",
              "    </tr>\n",
              "  </tbody>\n",
              "</table>\n",
              "</div>\n",
              "    <div class=\"colab-df-buttons\">\n",
              "\n",
              "  <div class=\"colab-df-container\">\n",
              "    <button class=\"colab-df-convert\" onclick=\"convertToInteractive('df-93169348-4d23-4174-9e1e-2caba6b10007')\"\n",
              "            title=\"Convert this dataframe to an interactive table.\"\n",
              "            style=\"display:none;\">\n",
              "\n",
              "  <svg xmlns=\"http://www.w3.org/2000/svg\" height=\"24px\" viewBox=\"0 -960 960 960\">\n",
              "    <path d=\"M120-120v-720h720v720H120Zm60-500h600v-160H180v160Zm220 220h160v-160H400v160Zm0 220h160v-160H400v160ZM180-400h160v-160H180v160Zm440 0h160v-160H620v160ZM180-180h160v-160H180v160Zm440 0h160v-160H620v160Z\"/>\n",
              "  </svg>\n",
              "    </button>\n",
              "\n",
              "  <style>\n",
              "    .colab-df-container {\n",
              "      display:flex;\n",
              "      gap: 12px;\n",
              "    }\n",
              "\n",
              "    .colab-df-convert {\n",
              "      background-color: #E8F0FE;\n",
              "      border: none;\n",
              "      border-radius: 50%;\n",
              "      cursor: pointer;\n",
              "      display: none;\n",
              "      fill: #1967D2;\n",
              "      height: 32px;\n",
              "      padding: 0 0 0 0;\n",
              "      width: 32px;\n",
              "    }\n",
              "\n",
              "    .colab-df-convert:hover {\n",
              "      background-color: #E2EBFA;\n",
              "      box-shadow: 0px 1px 2px rgba(60, 64, 67, 0.3), 0px 1px 3px 1px rgba(60, 64, 67, 0.15);\n",
              "      fill: #174EA6;\n",
              "    }\n",
              "\n",
              "    .colab-df-buttons div {\n",
              "      margin-bottom: 4px;\n",
              "    }\n",
              "\n",
              "    [theme=dark] .colab-df-convert {\n",
              "      background-color: #3B4455;\n",
              "      fill: #D2E3FC;\n",
              "    }\n",
              "\n",
              "    [theme=dark] .colab-df-convert:hover {\n",
              "      background-color: #434B5C;\n",
              "      box-shadow: 0px 1px 3px 1px rgba(0, 0, 0, 0.15);\n",
              "      filter: drop-shadow(0px 1px 2px rgba(0, 0, 0, 0.3));\n",
              "      fill: #FFFFFF;\n",
              "    }\n",
              "  </style>\n",
              "\n",
              "    <script>\n",
              "      const buttonEl =\n",
              "        document.querySelector('#df-93169348-4d23-4174-9e1e-2caba6b10007 button.colab-df-convert');\n",
              "      buttonEl.style.display =\n",
              "        google.colab.kernel.accessAllowed ? 'block' : 'none';\n",
              "\n",
              "      async function convertToInteractive(key) {\n",
              "        const element = document.querySelector('#df-93169348-4d23-4174-9e1e-2caba6b10007');\n",
              "        const dataTable =\n",
              "          await google.colab.kernel.invokeFunction('convertToInteractive',\n",
              "                                                    [key], {});\n",
              "        if (!dataTable) return;\n",
              "\n",
              "        const docLinkHtml = 'Like what you see? Visit the ' +\n",
              "          '<a target=\"_blank\" href=https://colab.research.google.com/notebooks/data_table.ipynb>data table notebook</a>'\n",
              "          + ' to learn more about interactive tables.';\n",
              "        element.innerHTML = '';\n",
              "        dataTable['output_type'] = 'display_data';\n",
              "        await google.colab.output.renderOutput(dataTable, element);\n",
              "        const docLink = document.createElement('div');\n",
              "        docLink.innerHTML = docLinkHtml;\n",
              "        element.appendChild(docLink);\n",
              "      }\n",
              "    </script>\n",
              "  </div>\n",
              "\n",
              "\n",
              "<div id=\"df-ea77033d-f7d5-4f67-aa46-62b47ab8b178\">\n",
              "  <button class=\"colab-df-quickchart\" onclick=\"quickchart('df-ea77033d-f7d5-4f67-aa46-62b47ab8b178')\"\n",
              "            title=\"Suggest charts.\"\n",
              "            style=\"display:none;\">\n",
              "\n",
              "<svg xmlns=\"http://www.w3.org/2000/svg\" height=\"24px\"viewBox=\"0 0 24 24\"\n",
              "     width=\"24px\">\n",
              "    <g>\n",
              "        <path d=\"M19 3H5c-1.1 0-2 .9-2 2v14c0 1.1.9 2 2 2h14c1.1 0 2-.9 2-2V5c0-1.1-.9-2-2-2zM9 17H7v-7h2v7zm4 0h-2V7h2v10zm4 0h-2v-4h2v4z\"/>\n",
              "    </g>\n",
              "</svg>\n",
              "  </button>\n",
              "\n",
              "<style>\n",
              "  .colab-df-quickchart {\n",
              "      --bg-color: #E8F0FE;\n",
              "      --fill-color: #1967D2;\n",
              "      --hover-bg-color: #E2EBFA;\n",
              "      --hover-fill-color: #174EA6;\n",
              "      --disabled-fill-color: #AAA;\n",
              "      --disabled-bg-color: #DDD;\n",
              "  }\n",
              "\n",
              "  [theme=dark] .colab-df-quickchart {\n",
              "      --bg-color: #3B4455;\n",
              "      --fill-color: #D2E3FC;\n",
              "      --hover-bg-color: #434B5C;\n",
              "      --hover-fill-color: #FFFFFF;\n",
              "      --disabled-bg-color: #3B4455;\n",
              "      --disabled-fill-color: #666;\n",
              "  }\n",
              "\n",
              "  .colab-df-quickchart {\n",
              "    background-color: var(--bg-color);\n",
              "    border: none;\n",
              "    border-radius: 50%;\n",
              "    cursor: pointer;\n",
              "    display: none;\n",
              "    fill: var(--fill-color);\n",
              "    height: 32px;\n",
              "    padding: 0;\n",
              "    width: 32px;\n",
              "  }\n",
              "\n",
              "  .colab-df-quickchart:hover {\n",
              "    background-color: var(--hover-bg-color);\n",
              "    box-shadow: 0 1px 2px rgba(60, 64, 67, 0.3), 0 1px 3px 1px rgba(60, 64, 67, 0.15);\n",
              "    fill: var(--button-hover-fill-color);\n",
              "  }\n",
              "\n",
              "  .colab-df-quickchart-complete:disabled,\n",
              "  .colab-df-quickchart-complete:disabled:hover {\n",
              "    background-color: var(--disabled-bg-color);\n",
              "    fill: var(--disabled-fill-color);\n",
              "    box-shadow: none;\n",
              "  }\n",
              "\n",
              "  .colab-df-spinner {\n",
              "    border: 2px solid var(--fill-color);\n",
              "    border-color: transparent;\n",
              "    border-bottom-color: var(--fill-color);\n",
              "    animation:\n",
              "      spin 1s steps(1) infinite;\n",
              "  }\n",
              "\n",
              "  @keyframes spin {\n",
              "    0% {\n",
              "      border-color: transparent;\n",
              "      border-bottom-color: var(--fill-color);\n",
              "      border-left-color: var(--fill-color);\n",
              "    }\n",
              "    20% {\n",
              "      border-color: transparent;\n",
              "      border-left-color: var(--fill-color);\n",
              "      border-top-color: var(--fill-color);\n",
              "    }\n",
              "    30% {\n",
              "      border-color: transparent;\n",
              "      border-left-color: var(--fill-color);\n",
              "      border-top-color: var(--fill-color);\n",
              "      border-right-color: var(--fill-color);\n",
              "    }\n",
              "    40% {\n",
              "      border-color: transparent;\n",
              "      border-right-color: var(--fill-color);\n",
              "      border-top-color: var(--fill-color);\n",
              "    }\n",
              "    60% {\n",
              "      border-color: transparent;\n",
              "      border-right-color: var(--fill-color);\n",
              "    }\n",
              "    80% {\n",
              "      border-color: transparent;\n",
              "      border-right-color: var(--fill-color);\n",
              "      border-bottom-color: var(--fill-color);\n",
              "    }\n",
              "    90% {\n",
              "      border-color: transparent;\n",
              "      border-bottom-color: var(--fill-color);\n",
              "    }\n",
              "  }\n",
              "</style>\n",
              "\n",
              "  <script>\n",
              "    async function quickchart(key) {\n",
              "      const quickchartButtonEl =\n",
              "        document.querySelector('#' + key + ' button');\n",
              "      quickchartButtonEl.disabled = true;  // To prevent multiple clicks.\n",
              "      quickchartButtonEl.classList.add('colab-df-spinner');\n",
              "      try {\n",
              "        const charts = await google.colab.kernel.invokeFunction(\n",
              "            'suggestCharts', [key], {});\n",
              "      } catch (error) {\n",
              "        console.error('Error during call to suggestCharts:', error);\n",
              "      }\n",
              "      quickchartButtonEl.classList.remove('colab-df-spinner');\n",
              "      quickchartButtonEl.classList.add('colab-df-quickchart-complete');\n",
              "    }\n",
              "    (() => {\n",
              "      let quickchartButtonEl =\n",
              "        document.querySelector('#df-ea77033d-f7d5-4f67-aa46-62b47ab8b178 button');\n",
              "      quickchartButtonEl.style.display =\n",
              "        google.colab.kernel.accessAllowed ? 'block' : 'none';\n",
              "    })();\n",
              "  </script>\n",
              "</div>\n",
              "    </div>\n",
              "  </div>\n"
            ]
          },
          "metadata": {},
          "execution_count": 145
        }
      ]
    },
    {
      "cell_type": "code",
      "source": [
        "data2.info()"
      ],
      "metadata": {
        "colab": {
          "base_uri": "https://localhost:8080/"
        },
        "id": "du4XTk8BH7d6",
        "outputId": "a26a7000-685e-4b04-f277-ca1163fb48b9"
      },
      "execution_count": 142,
      "outputs": [
        {
          "output_type": "stream",
          "name": "stdout",
          "text": [
            "<class 'pandas.core.frame.DataFrame'>\n",
            "RangeIndex: 1209 entries, 0 to 1208\n",
            "Data columns (total 3 columns):\n",
            " #   Column  Non-Null Count  Dtype  \n",
            "---  ------  --------------  -----  \n",
            " 0   pc1     1209 non-null   float64\n",
            " 1   pc2     1209 non-null   float64\n",
            " 2   labels  1209 non-null   int32  \n",
            "dtypes: float64(2), int32(1)\n",
            "memory usage: 23.7 KB\n"
          ]
        }
      ]
    },
    {
      "cell_type": "code",
      "source": [
        "sns.scatterplot(x=data2['pc1'], y=data2['pc2'], hue='labels', data=data2)"
      ],
      "metadata": {
        "colab": {
          "base_uri": "https://localhost:8080/",
          "height": 467
        },
        "id": "9Y6Vb9nHlWde",
        "outputId": "c9f5f855-12df-4b22-ce6d-b42f1f63ed66"
      },
      "execution_count": 144,
      "outputs": [
        {
          "output_type": "execute_result",
          "data": {
            "text/plain": [
              "<Axes: xlabel='pc1', ylabel='pc2'>"
            ]
          },
          "metadata": {},
          "execution_count": 144
        },
        {
          "output_type": "display_data",
          "data": {
            "text/plain": [
              "<Figure size 640x480 with 1 Axes>"
            ],
            "image/png": "[encoded data removed]"
          },
          "metadata": {}
        }
      ]
    },
    {
      "cell_type": "code",
      "source": [
        "selected_columns = data2.iloc[:, [0, 1]]"
      ],
      "metadata": {
        "id": "ibiY1DPXBXgE"
      },
      "execution_count": 140,
      "outputs": []
    },
    {
      "cell_type": "code",
      "source": [
        "from sklearn.metrics import silhouette_score\n",
        "k_range=range(2,10)\n",
        "best_k=-1\n",
        "best_sc=-1\n",
        "\n",
        "for k in k_range:\n",
        "  kmeans=KMeans(n_clusters=k,random_state=200)\n",
        "  result=kmeans.fit_predict(selected_columns)\n",
        "  score=silhouette_score(selected_columns,result)\n",
        "  print('k: ',k,' score: ',score)\n",
        "  if(score>best_sc):\n",
        "    best_k=k\n",
        "    best_sc=score\n",
        "print('best_k: ',best_k)"
      ],
      "metadata": {
        "id": "0tS25ljYqQin",
        "colab": {
          "base_uri": "https://localhost:8080/"
        },
        "outputId": "8fe40ea5-3510-4d39-b7b3-344fe210991f"
      },
      "execution_count": 141,
      "outputs": [
        {
          "output_type": "stream",
          "name": "stderr",
          "text": [
            "/usr/local/lib/python3.10/dist-packages/sklearn/cluster/_kmeans.py:870: FutureWarning: The default value of `n_init` will change from 10 to 'auto' in 1.4. Set the value of `n_init` explicitly to suppress the warning\n",
            "  warnings.warn(\n",
            "/usr/local/lib/python3.10/dist-packages/sklearn/cluster/_kmeans.py:870: FutureWarning: The default value of `n_init` will change from 10 to 'auto' in 1.4. Set the value of `n_init` explicitly to suppress the warning\n",
            "  warnings.warn(\n"
          ]
        },
        {
          "output_type": "stream",
          "name": "stdout",
          "text": [
            "k:  2  score:  0.4835541952277694\n",
            "k:  3  score:  0.49266943893186094\n"
          ]
        },
        {
          "output_type": "stream",
          "name": "stderr",
          "text": [
            "/usr/local/lib/python3.10/dist-packages/sklearn/cluster/_kmeans.py:870: FutureWarning: The default value of `n_init` will change from 10 to 'auto' in 1.4. Set the value of `n_init` explicitly to suppress the warning\n",
            "  warnings.warn(\n",
            "/usr/local/lib/python3.10/dist-packages/sklearn/cluster/_kmeans.py:870: FutureWarning: The default value of `n_init` will change from 10 to 'auto' in 1.4. Set the value of `n_init` explicitly to suppress the warning\n",
            "  warnings.warn(\n"
          ]
        },
        {
          "output_type": "stream",
          "name": "stdout",
          "text": [
            "k:  4  score:  0.4181355899994012\n",
            "k:  5  score:  0.4539792258613073\n"
          ]
        },
        {
          "output_type": "stream",
          "name": "stderr",
          "text": [
            "/usr/local/lib/python3.10/dist-packages/sklearn/cluster/_kmeans.py:870: FutureWarning: The default value of `n_init` will change from 10 to 'auto' in 1.4. Set the value of `n_init` explicitly to suppress the warning\n",
            "  warnings.warn(\n",
            "/usr/local/lib/python3.10/dist-packages/sklearn/cluster/_kmeans.py:870: FutureWarning: The default value of `n_init` will change from 10 to 'auto' in 1.4. Set the value of `n_init` explicitly to suppress the warning\n",
            "  warnings.warn(\n"
          ]
        },
        {
          "output_type": "stream",
          "name": "stdout",
          "text": [
            "k:  6  score:  0.39061834578076343\n",
            "k:  7  score:  0.3936634519125104\n"
          ]
        },
        {
          "output_type": "stream",
          "name": "stderr",
          "text": [
            "/usr/local/lib/python3.10/dist-packages/sklearn/cluster/_kmeans.py:870: FutureWarning: The default value of `n_init` will change from 10 to 'auto' in 1.4. Set the value of `n_init` explicitly to suppress the warning\n",
            "  warnings.warn(\n",
            "/usr/local/lib/python3.10/dist-packages/sklearn/cluster/_kmeans.py:870: FutureWarning: The default value of `n_init` will change from 10 to 'auto' in 1.4. Set the value of `n_init` explicitly to suppress the warning\n",
            "  warnings.warn(\n"
          ]
        },
        {
          "output_type": "stream",
          "name": "stdout",
          "text": [
            "k:  8  score:  0.39040960681514164\n",
            "k:  9  score:  0.39311578574833217\n",
            "best_k:  3\n"
          ]
        }
      ]
    },
    {
      "cell_type": "code",
      "source": [
        "type(data2)"
      ],
      "metadata": {
        "colab": {
          "base_uri": "https://localhost:8080/"
        },
        "id": "aqHrjdQ7Ni3Z",
        "outputId": "053a0594-05b6-45f9-c619-7d2e10d606e4"
      },
      "execution_count": 149,
      "outputs": [
        {
          "output_type": "execute_result",
          "data": {
            "text/plain": [
              "pandas.core.frame.DataFrame"
            ]
          },
          "metadata": {},
          "execution_count": 149
        }
      ]
    },
    {
      "cell_type": "code",
      "source": [
        "cluster_size=data2['labels'].value_counts()\n",
        "cluster_size.plot(kind='bar')"
      ],
      "metadata": {
        "colab": {
          "base_uri": "https://localhost:8080/",
          "height": 443
        },
        "id": "W7AtVrUgKwB4",
        "outputId": "b4d25f23-90b5-4d7d-c6c3-dd86bc5aab46"
      },
      "execution_count": 150,
      "outputs": [
        {
          "output_type": "execute_result",
          "data": {
            "text/plain": [
              "<Axes: >"
            ]
          },
          "metadata": {},
          "execution_count": 150
        },
        {
          "output_type": "display_data",
          "data": {
            "text/plain": [
              "<Figure size 640x480 with 1 Axes>"
            ],
            "image/png": "[encoded data removed]"
          },
          "metadata": {}
        }
      ]
    },
    {
      "cell_type": "code",
      "source": [
        "temp=final_df_scaled.groupby(['labels']).mean()\n",
        "cluster_mean=temp.transpose()\n",
        "sns.heatmap(\n",
        "    cluster_mean,\n",
        "    annot=True,\n",
        "    fmt='.2f',\n",
        "    cmap='RdYlBu_r'\n",
        ")\n",
        "plt.show() #라벨을 기준으로 각 칼럼들의 평균 계산, 각 칼럼마다 작은 평균값이 작은 0번 그룹을 선택한다"
      ],
      "metadata": {
        "colab": {
          "base_uri": "https://localhost:8080/",
          "height": 455
        },
        "id": "C45J7tUqOOxk",
        "outputId": "99f1aae9-b52e-455a-aaca-1dc665301f46"
      },
      "execution_count": 154,
      "outputs": [
        {
          "output_type": "display_data",
          "data": {
            "text/plain": [
              "<Figure size 640x480 with 2 Axes>"
            ],
            "image/png": "[encoded data removed]"
          },
          "metadata": {}
        }
      ]
    },
    {
      "cell_type": "code",
      "source": [
        "fig, axes = plt.subplots(nrows=3, ncols=1, figsize=(10, 15))\n",
        "# INFO_FAT에 대한 boxplot\n",
        "sns.boxplot(data=final_df_scaled, y='labels', x='INFO_FAT', orient='h', ax=axes[0])\n",
        "axes[0].set_xlabel('INFO_FAT')\n",
        "\n",
        "# INFO_CAR에 대한 boxplot\n",
        "sns.boxplot(data=final_df_scaled, y='labels', x='INFO_CAR', orient='h', ax=axes[1])\n",
        "axes[1].set_xlabel('INFO_CAR')\n",
        "\n",
        "# INFO_ENG에 대한 boxplot\n",
        "sns.boxplot(data=final_df_scaled, y='labels', x='INFO_ENG', orient='h', ax=axes[2])\n",
        "axes[2].set_xlabel('INFO_ENG')\n",
        "\n",
        "plt.tight_layout()\n",
        "plt.show()"
      ],
      "metadata": {
        "colab": {
          "base_uri": "https://localhost:8080/",
          "height": 1000
        },
        "id": "FtwNxdboPKRu",
        "outputId": "632abd90-3617-45ec-d38e-6ea607295800"
      },
      "execution_count": 166,
      "outputs": [
        {
          "output_type": "display_data",
          "data": {
            "text/plain": [
              "<Figure size 1000x1500 with 3 Axes>"
            ],
            "image/png": "[encoded data removed]"
          },
          "metadata": {}
        }
      ]
    }
  ]
}