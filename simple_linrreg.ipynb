{
  "nbformat": 4,
  "nbformat_minor": 0,
  "metadata": {
    "colab": {
      "provenance": [],
      "authorship_tag": "ABX9TyMtwvRl4XBnUCaWbwjR2oqp",
      "include_colab_link": true
    },
    "kernelspec": {
      "name": "python3",
      "display_name": "Python 3"
    },
    "language_info": {
      "name": "python"
    }
  },
  "cells": [
    {
      "cell_type": "markdown",
      "metadata": {
        "id": "view-in-github",
        "colab_type": "text"
      },
      "source": [
        "<a href=\"https://colab.research.google.com/github/mrri-18/swu_3/blob/main/simple_linrreg.ipynb\" target=\"_parent\"><img src=\"https://colab.research.google.com/assets/colab-badge.svg\" alt=\"Open In Colab\"/></a>"
      ]
    },
    {
      "cell_type": "code",
      "execution_count": 4,
      "metadata": {
        "colab": {
          "base_uri": "https://localhost:8080/",
          "height": 265
        },
        "id": "qsqKy3qLGwJl",
        "outputId": "9f9e2e81-c08f-40ec-90fd-0f3ca65daf89"
      },
      "outputs": [
        {
          "output_type": "display_data",
          "data": {
            "text/plain": [
              "<Figure size 432x288 with 1 Axes>"
            ],
            "image/png": "[encoded data removed]"
          },
          "metadata": {
            "needs_background": "light"
          }
        }
      ],
      "source": [
        "import numpy as np\n",
        "import matplotlib.pyplot as plt\n",
        "\n",
        "\n",
        "x=np.array([2,4,6,8]) \n",
        "y=np.array([81,93,91,97])\n",
        "\n",
        "plt.scatter(x,y)\n",
        "plt.show()"
      ]
    },
    {
      "cell_type": "code",
      "source": [
        "a=0\n",
        "b=0\n",
        "\n",
        "lr=0.03 #learning rate\n",
        "epochs=2001 \n",
        "n=len(x)\n",
        "\n",
        "for i in range(epochs):\n",
        "  y_pred=a*x+b\n",
        "  error=y-y_pred\n",
        "\n",
        "  a_diff=(2/n)*sum(-x*(error)) #a,b 값이 궁금하므로\n",
        "  b_diff=(2/n)*sum(-(error)) #각각 a,b에 대해 편미분 \n",
        "\n",
        "  a=a-lr*a_diff\n",
        "  b=b-lr*b_diff\n",
        "\n",
        "  if(i==2000):print(\"weight: %lf, bias: %lf\"%(a,b))\n",
        "\n",
        "y_pred=a*x+b\n",
        "plt.scatter(x,y)\n",
        "plt.plot(x,y_pred,'r')\n",
        "plt.show()\n",
        "#기울기, 절편 값은 최소 제곱법과 같다. "
      ],
      "metadata": {
        "colab": {
          "base_uri": "https://localhost:8080/",
          "height": 283
        },
        "id": "5UVgxmoSH1mX",
        "outputId": "d3431d17-e841-425f-a00b-c274a7509309"
      },
      "execution_count": 7,
      "outputs": [
        {
          "output_type": "stream",
          "name": "stdout",
          "text": [
            "weight: 2.300000, bias: 79.000000\n"
          ]
        },
        {
          "output_type": "display_data",
          "data": {
            "text/plain": [
              "<Figure size 432x288 with 1 Axes>"
            ],
            "image/png": "[encoded data removed]"
          },
          "metadata": {
            "needs_background": "light"
          }
        }
      ]
    }
  ]
}