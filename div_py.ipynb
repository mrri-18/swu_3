{
  "nbformat": 4,
  "nbformat_minor": 0,
  "metadata": {
    "colab": {
      "provenance": [],
      "authorship_tag": "ABX9TyOTdwMKuiIunj2vyh7otHEY",
      "include_colab_link": true
    },
    "kernelspec": {
      "name": "python3",
      "display_name": "Python 3"
    },
    "language_info": {
      "name": "python"
    }
  },
  "cells": [
    {
      "cell_type": "markdown",
      "metadata": {
        "id": "view-in-github",
        "colab_type": "text"
      },
      "source": [
        "<a href=\"https://colab.research.google.com/github/mrri-18/swu_3/blob/main/div_py.ipynb\" target=\"_parent\"><img src=\"https://colab.research.google.com/assets/colab-badge.svg\" alt=\"Open In Colab\"/></a>"
      ]
    },
    {
      "cell_type": "code",
      "execution_count": null,
      "metadata": {
        "colab": {
          "base_uri": "https://localhost:8080/"
        },
        "id": "urcmKUV5ASEJ",
        "outputId": "5a53b595-59c4-4676-b396-f74df0852cd8"
      },
      "outputs": [
        {
          "output_type": "stream",
          "name": "stdout",
          "text": [
            "       type  family    filename\n",
            "3504   BghB  hKmXls  4760026732\n",
            "8058   BghB  gaklnp  4493243280\n",
            "23505  BghB  hKmXls  4833825308\n",
            "26938  BghB  gaklnp  4609172415\n",
            "12133  BghB  gaklnp  4422607993\n",
            "...     ...     ...         ...\n",
            "15301  wbxA  JkQZdE  4559565143\n",
            "15305  wbxA  RxOaTd  4695953000\n",
            "15306  wbxA  RxOaTd  4579847480\n",
            "15229  wbxA  RxOaTd  4830735229\n",
            "29999  wbxA  IwelLz  4760308246\n",
            "\n",
            "[30000 rows x 3 columns]\n"
          ]
        }
      ],
      "source": [
        "import pandas as pd\n",
        "\n",
        "# 엑셀 파일 열기\n",
        "df = pd.read_csv('/content/track_a_learn_label.csv')\n",
        "\n",
        "# 변수별로 데이터 정렬\n",
        "sorted_df = df.sort_values(by=['type'])\n",
        "\n",
        "# 정렬된 데이터 출력\n",
        "print(sorted_df)"
      ]
    },
    {
      "cell_type": "code",
      "source": [
        "import matplotlib.pyplot as plt\n",
        "# CSV 파일 열기\n",
        "df = pd.read_csv('/content/track_a_learn_label.csv')\n",
        "\n",
        "# 변수별로 데이터 카운트\n",
        "count_data = df['family'].value_counts()\n",
        "\n",
        "# 막대그래프 그리기\n",
        "count_data.plot(kind='bar')\n",
        "plt.show()"
      ],
      "metadata": {
        "colab": {
          "base_uri": "https://localhost:8080/",
          "height": 299
        },
        "id": "OzYeF8_RB6zf",
        "outputId": "67e0586d-b233-459b-de3a-3dbbb2a0361b"
      },
      "execution_count": null,
      "outputs": [
        {
          "output_type": "display_data",
          "data": {
            "text/plain": [
              "<Figure size 432x288 with 1 Axes>"
            ],
            "image/png": "[encoded data removed]"
          },
          "metadata": {
            "needs_background": "light"
          }
        }
      ]
    },
    {
      "cell_type": "code",
      "source": [
        "import matplotlib.pyplot as plt\n",
        "# CSV 파일 열기\n",
        "df = pd.read_csv('/content/track_a_learn_label.csv')\n",
        "\n",
        "# 변수별로 데이터 카운트\n",
        "count_data = df['type'].value_counts()\n",
        "\n",
        "# 막대그래프 그리기\n",
        "count_data.plot(kind='bar')\n",
        "plt.show()"
      ],
      "metadata": {
        "colab": {
          "base_uri": "https://localhost:8080/",
          "height": 284
        },
        "outputId": "8ae62147-d211-418e-ca42-98ad829df595",
        "id": "Ovr_l25CDnjW"
      },
      "execution_count": null,
      "outputs": [
        {
          "output_type": "display_data",
          "data": {
            "text/plain": [
              "<Figure size 432x288 with 1 Axes>"
            ],
            "image/png": "[encoded data removed]"
          },
          "metadata": {
            "needs_background": "light"
          }
        }
      ]
    },
    {
      "cell_type": "code",
      "source": [
        "from sklearn.model_selection import train_test_split\n",
        "\n",
        "# X: 특징 데이터, y: 타겟 데이터\n",
        "X_train, X_test, y_train, y_test = train_test_split(X, y, test_size=0.3, random_state=42)"
      ],
      "metadata": {
        "colab": {
          "base_uri": "https://localhost:8080/",
          "height": 213
        },
        "id": "KVOmjQYPEgRK",
        "outputId": "73723f98-de8b-4552-da4b-c0fbd0ffe5ab"
      },
      "execution_count": null,
      "outputs": [
        {
          "output_type": "error",
          "ename": "NameError",
          "evalue": "ignored",
          "traceback": [
            "\u001b[0;31m---------------------------------------------------------------------------\u001b[0m",
            "\u001b[0;31mNameError\u001b[0m                                 Traceback (most recent call last)",
            "\u001b[0;32m<ipython-input-8-dc87b47a5092>\u001b[0m in \u001b[0;36m<module>\u001b[0;34m\u001b[0m\n\u001b[1;32m      2\u001b[0m \u001b[0;34m\u001b[0m\u001b[0m\n\u001b[1;32m      3\u001b[0m \u001b[0;31m# X: 특징 데이터, y: 타겟 데이터\u001b[0m\u001b[0;34m\u001b[0m\u001b[0;34m\u001b[0m\u001b[0;34m\u001b[0m\u001b[0m\n\u001b[0;32m----> 4\u001b[0;31m \u001b[0mX_train\u001b[0m\u001b[0;34m,\u001b[0m \u001b[0mX_test\u001b[0m\u001b[0;34m,\u001b[0m \u001b[0my_train\u001b[0m\u001b[0;34m,\u001b[0m \u001b[0my_test\u001b[0m \u001b[0;34m=\u001b[0m \u001b[0mtrain_test_split\u001b[0m\u001b[0;34m(\u001b[0m\u001b[0mX\u001b[0m\u001b[0;34m,\u001b[0m \u001b[0my\u001b[0m\u001b[0;34m,\u001b[0m \u001b[0mtest_size\u001b[0m\u001b[0;34m=\u001b[0m\u001b[0;36m0.3\u001b[0m\u001b[0;34m,\u001b[0m \u001b[0mrandom_state\u001b[0m\u001b[0;34m=\u001b[0m\u001b[0;36m42\u001b[0m\u001b[0;34m)\u001b[0m\u001b[0;34m\u001b[0m\u001b[0;34m\u001b[0m\u001b[0m\n\u001b[0m",
            "\u001b[0;31mNameError\u001b[0m: name 'X' is not defined"
          ]
        }
      ]
    },
    {
      "cell_type": "code",
      "source": [
        "import pandas as pd\n",
        "import matplotlib.pyplot as plt\n",
        "\n",
        "# CSV 파일에서 데이터 읽어오기\n",
        "data = pd.read_csv(\"/content/track_a_learn_label.csv\")\n",
        "\n",
        "# x, y 축 데이터 지정하기\n",
        "x = data['type']\n",
        "y = data['family']\n",
        "\n",
        "# 산점도 그리기\n",
        "plt.scatter(x, y)\n",
        "plt.xlabel(\"t\")\n",
        "plt.ylabel(\"f\")\n",
        "plt.title(\"graph\")\n",
        "plt.show()"
      ],
      "metadata": {
        "colab": {
          "base_uri": "https://localhost:8080/",
          "height": 295
        },
        "outputId": "2b822de2-f8aa-49d6-8069-e8a9d48829d5",
        "id": "_WvX9rm3JixN"
      },
      "execution_count": null,
      "outputs": [
        {
          "output_type": "display_data",
          "data": {
            "text/plain": [
              "<Figure size 432x288 with 1 Axes>"
            ],
            "image/png": "[encoded data removed]"
          },
          "metadata": {
            "needs_background": "light"
          }
        }
      ]
    },
    {
      "cell_type": "code",
      "source": [
        "from sklearn.model_selection import train_test_split\n",
        "train_test_split(arrays, test_size, train_size, random_state, shuffle, stratify)\n"
      ],
      "metadata": {
        "id": "Nw4T5_TtK1he"
      },
      "execution_count": null,
      "outputs": []
    },
    {
      "cell_type": "code",
      "source": [
        "!pip install split-folders"
      ],
      "metadata": {
        "colab": {
          "base_uri": "https://localhost:8080/"
        },
        "id": "T0BVQOe2uSq1",
        "outputId": "0ed842c8-831e-40fc-8906-8576ad8e13f3"
      },
      "execution_count": null,
      "outputs": [
        {
          "output_type": "stream",
          "name": "stdout",
          "text": [
            "Looking in indexes: https://pypi.org/simple, https://us-python.pkg.dev/colab-wheels/public/simple/\n",
            "Collecting split-folders\n",
            "  Downloading split_folders-0.5.1-py3-none-any.whl (8.4 kB)\n",
            "Installing collected packages: split-folders\n",
            "Successfully installed split-folders-0.5.1\n"
          ]
        }
      ]
    }
  ]
}